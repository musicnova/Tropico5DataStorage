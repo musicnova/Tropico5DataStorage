{
 "cells": [
  {
   "cell_type": "code",
   "execution_count": 1,
   "metadata": {},
   "outputs": [],
   "source": [
    "import lxml.etree\n",
    "import pandas as pd\n",
    "import requests\n",
    "# README https://iss.moex.com/iss/reference/\n",
    "r = requests.get('https://iss.moex.com/iss/history/engines/stock/markets/'\n",
    "                 'shares/securities/GAZP?'\n",
    "                 'from=2020-04-19&till=2020-04-24&'\n",
    "                 'interval=24&start=0')\n",
    "\n",
    "df = pd.DataFrame()\n",
    "if r.ok:\n",
    "    xml = lxml.etree.fromstring(r.content)\n",
    "    rows = xml.xpath('/document/data[@id=\"history\"]/rows/*')\n",
    "    for row in rows:\n",
    "        df = df.append(dict(row.attrib), True)\n",
    "df.to_csv('GAZP.csv')"
   ]
  },
  {
   "cell_type": "code",
   "execution_count": null,
   "metadata": {},
   "outputs": [],
   "source": []
  }
 ],
 "metadata": {
  "kernelspec": {
   "display_name": "Python 3",
   "language": "python",
   "name": "python3"
  },
  "language_info": {
   "codemirror_mode": {
    "name": "ipython",
    "version": 3
   },
   "file_extension": ".py",
   "mimetype": "text/x-python",
   "name": "python",
   "nbconvert_exporter": "python",
   "pygments_lexer": "ipython3",
   "version": "3.6.5"
  }
 },
 "nbformat": 4,
 "nbformat_minor": 2
}
