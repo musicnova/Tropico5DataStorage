{
 "cells": [
  {
   "cell_type": "code",
   "execution_count": 4,
   "metadata": {},
   "outputs": [
    {
     "name": "stdout",
     "output_type": "stream",
     "text": [
      "Requirement already satisfied: lxml in c:\\users\\home\\anaconda3\\lib\\site-packages (4.2.1)\n"
     ]
    }
   ],
   "source": [
    "#!python -m pip install --upgrade pip\n",
    "#!pip install lxml"
   ]
  },
  {
   "cell_type": "code",
   "execution_count": 5,
   "metadata": {},
   "outputs": [
    {
     "name": "stdout",
     "output_type": "stream",
     "text": [
      "running with lxml.etree\n"
     ]
    }
   ],
   "source": [
    "# https://lxml.de/tutorial.html\n",
    "try:\n",
    "  from lxml import etree\n",
    "  print(\"running with lxml.etree\")\n",
    "except ImportError:\n",
    "  try:\n",
    "    # Python 2.5\n",
    "    import xml.etree.cElementTree as etree\n",
    "    print(\"running with cElementTree on Python 2.5+\")\n",
    "  except ImportError:\n",
    "    try:\n",
    "      # Python 2.5\n",
    "      import xml.etree.ElementTree as etree\n",
    "      print(\"running with ElementTree on Python 2.5+\")\n",
    "    except ImportError:\n",
    "      try:\n",
    "        # normal cElementTree install\n",
    "        import cElementTree as etree\n",
    "        print(\"running with cElementTree\")\n",
    "      except ImportError:\n",
    "        try:\n",
    "          # normal ElementTree install\n",
    "          import elementtree.ElementTree as etree\n",
    "          print(\"running with ElementTree\")\n",
    "        except ImportError:\n",
    "          print(\"Failed to import ElementTree from any known place\")"
   ]
  },
  {
   "cell_type": "code",
   "execution_count": null,
   "metadata": {},
   "outputs": [],
   "source": []
  }
 ],
 "metadata": {
  "kernelspec": {
   "display_name": "Python 3",
   "language": "python",
   "name": "python3"
  },
  "language_info": {
   "codemirror_mode": {
    "name": "ipython",
    "version": 3
   },
   "file_extension": ".py",
   "mimetype": "text/x-python",
   "name": "python",
   "nbconvert_exporter": "python",
   "pygments_lexer": "ipython3",
   "version": "3.6.5"
  }
 },
 "nbformat": 4,
 "nbformat_minor": 2
}
