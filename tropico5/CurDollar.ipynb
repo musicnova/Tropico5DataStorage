{
 "cells": [
  {
   "cell_type": "code",
   "execution_count": 1,
   "metadata": {},
   "outputs": [],
   "source": [
    "#!pip install pyspark\n",
    "H={'/home/user/HADOOP': 'C:/HADOOP',\n",
    "  '/home/user/HADOOP/spark-2.3.0-bin-hadoop2.7': 'C:/HADOOP/spark-2.3.0-bin-hadoop2.7',\n",
    "  '/home/user/Program Files/java/8.0.172-zulu': 'C:/Program Files/Java/jdk1.8.0_172/jre',\n",
    "  '/home/user/TMP/SPARK': 'C:/TMP/SPARK'}\n",
    "#H=dict([(k,k) for k in H.keys()])\n",
    "Z=\"ok\"\n",
    "SB=\"SANDBOX.USER\"\n",
    "DB=\"MY_DATA\"\n",
    "TB=\"CURRENCY_KAFKA\"\n",
    "BA=\"SANDBOX.USER\"\n",
    "AB=\"REQUEST_CURRENCY\"\n",
    "CB=\"SANDBOX.USER\"\n",
    "BC=\"RESPONSE_CURRENCY\"\n",
    "DIR=\"C:\\\\ALBINA\\\\SASHA\\\\SOAP\"\n",
    "C=[(\"dt\",\"\",\"\")\n",
    "  ,(\"val\",\"FLOAT\",\"cast(val as float)\")\n",
    "]\n",
    "AKEY=\"mqZagQhmMKp1w1-565-E\"\n",
    "URL='https://www.quandl.com/api/v3/datasets/BOE/XUDLBK69/data.json'"
   ]
  },
  {
   "cell_type": "code",
   "execution_count": 2,
   "metadata": {},
   "outputs": [
    {
     "name": "stdout",
     "output_type": "stream",
     "text": [
      "ok\n"
     ]
    }
   ],
   "source": [
    "#%%time\n",
    "\n",
    "def parse_html(url, nrows=-1):\n",
    "    import pandas as pd\n",
    "    d = pd.DataFrame(columns=['dt', 'val'])\n",
    "    import requests\n",
    "    answer = requests.get(url+'?api_key='+AKEY, stream=True)\n",
    "    res = answer.text\n",
    "    import json\n",
    "    js = json.loads(res)\n",
    "    data = js[\"dataset_data\"][\"data\"]\n",
    "    for i in range(len(data)):\n",
    "        if len(d) >= nrows and nrows >= 0: break\n",
    "        row = []\n",
    "        row.append(data[i][0])\n",
    "        row.append(data[i][1])\n",
    "        d.loc[len(d)+1] = row\n",
    "    return d\n",
    "\n",
    "print(Z)"
   ]
  },
  {
   "cell_type": "code",
   "execution_count": 3,
   "metadata": {},
   "outputs": [
    {
     "data": {
      "text/html": [
       "<div>\n",
       "<style scoped>\n",
       "    .dataframe tbody tr th:only-of-type {\n",
       "        vertical-align: middle;\n",
       "    }\n",
       "\n",
       "    .dataframe tbody tr th {\n",
       "        vertical-align: top;\n",
       "    }\n",
       "\n",
       "    .dataframe thead th {\n",
       "        text-align: right;\n",
       "    }\n",
       "</style>\n",
       "<table border=\"1\" class=\"dataframe\">\n",
       "  <thead>\n",
       "    <tr style=\"text-align: right;\">\n",
       "      <th></th>\n",
       "      <th>dt</th>\n",
       "      <th>val</th>\n",
       "    </tr>\n",
       "  </thead>\n",
       "  <tbody>\n",
       "    <tr>\n",
       "      <th>1</th>\n",
       "      <td>2018-07-12</td>\n",
       "      <td>62.1525</td>\n",
       "    </tr>\n",
       "    <tr>\n",
       "      <th>2</th>\n",
       "      <td>2018-07-11</td>\n",
       "      <td>61.8328</td>\n",
       "    </tr>\n",
       "    <tr>\n",
       "      <th>3</th>\n",
       "      <td>2018-07-10</td>\n",
       "      <td>62.1450</td>\n",
       "    </tr>\n",
       "    <tr>\n",
       "      <th>4</th>\n",
       "      <td>2018-07-09</td>\n",
       "      <td>62.7100</td>\n",
       "    </tr>\n",
       "  </tbody>\n",
       "</table>\n",
       "</div>"
      ],
      "text/plain": [
       "           dt      val\n",
       "1  2018-07-12  62.1525\n",
       "2  2018-07-11  61.8328\n",
       "3  2018-07-10  62.1450\n",
       "4  2018-07-09  62.7100"
      ]
     },
     "metadata": {},
     "output_type": "display_data"
    },
    {
     "name": "stdout",
     "output_type": "stream",
     "text": [
      "ok\n"
     ]
    }
   ],
   "source": [
    "import pandas as pd\n",
    "view = parse_html(URL, nrows=100)\n",
    "display(view[view.index < 5])\n",
    "\n",
    "print(Z)"
   ]
  },
  {
   "cell_type": "code",
   "execution_count": 4,
   "metadata": {},
   "outputs": [
    {
     "name": "stdout",
     "output_type": "stream",
     "text": [
      "os.environ['HADOOP_HOME'] = C:/HADOOP\n",
      "os.environ['SPARK_HOME'] = C:/HADOOP/spark-2.3.0-bin-hadoop2.7\n",
      "os.environ['JAVA_HOME'] = C:/Program Files/Java/jdk1.8.0_172/jre\n"
     ]
    },
    {
     "ename": "Exception",
     "evalue": "Java gateway process exited before sending its port number",
     "output_type": "error",
     "traceback": [
      "\u001b[1;31m---------------------------------------------------------------------------\u001b[0m",
      "\u001b[1;31mException\u001b[0m                                 Traceback (most recent call last)",
      "\u001b[1;32m<timed exec>\u001b[0m in \u001b[0;36m<module>\u001b[1;34m()\u001b[0m\n",
      "\u001b[1;32m<timed exec>\u001b[0m in \u001b[0;36mstart\u001b[1;34m()\u001b[0m\n",
      "\u001b[1;32m~\\Anaconda3\\lib\\site-packages\\pyspark\\sql\\session.py\u001b[0m in \u001b[0;36mgetOrCreate\u001b[1;34m(self)\u001b[0m\n\u001b[0;32m    171\u001b[0m                     \u001b[1;32mfor\u001b[0m \u001b[0mkey\u001b[0m\u001b[1;33m,\u001b[0m \u001b[0mvalue\u001b[0m \u001b[1;32min\u001b[0m \u001b[0mself\u001b[0m\u001b[1;33m.\u001b[0m\u001b[0m_options\u001b[0m\u001b[1;33m.\u001b[0m\u001b[0mitems\u001b[0m\u001b[1;33m(\u001b[0m\u001b[1;33m)\u001b[0m\u001b[1;33m:\u001b[0m\u001b[1;33m\u001b[0m\u001b[0m\n\u001b[0;32m    172\u001b[0m                         \u001b[0msparkConf\u001b[0m\u001b[1;33m.\u001b[0m\u001b[0mset\u001b[0m\u001b[1;33m(\u001b[0m\u001b[0mkey\u001b[0m\u001b[1;33m,\u001b[0m \u001b[0mvalue\u001b[0m\u001b[1;33m)\u001b[0m\u001b[1;33m\u001b[0m\u001b[0m\n\u001b[1;32m--> 173\u001b[1;33m                     \u001b[0msc\u001b[0m \u001b[1;33m=\u001b[0m \u001b[0mSparkContext\u001b[0m\u001b[1;33m.\u001b[0m\u001b[0mgetOrCreate\u001b[0m\u001b[1;33m(\u001b[0m\u001b[0msparkConf\u001b[0m\u001b[1;33m)\u001b[0m\u001b[1;33m\u001b[0m\u001b[0m\n\u001b[0m\u001b[0;32m    174\u001b[0m                     \u001b[1;31m# This SparkContext may be an existing one.\u001b[0m\u001b[1;33m\u001b[0m\u001b[1;33m\u001b[0m\u001b[0m\n\u001b[0;32m    175\u001b[0m                     \u001b[1;32mfor\u001b[0m \u001b[0mkey\u001b[0m\u001b[1;33m,\u001b[0m \u001b[0mvalue\u001b[0m \u001b[1;32min\u001b[0m \u001b[0mself\u001b[0m\u001b[1;33m.\u001b[0m\u001b[0m_options\u001b[0m\u001b[1;33m.\u001b[0m\u001b[0mitems\u001b[0m\u001b[1;33m(\u001b[0m\u001b[1;33m)\u001b[0m\u001b[1;33m:\u001b[0m\u001b[1;33m\u001b[0m\u001b[0m\n",
      "\u001b[1;32m~\\Anaconda3\\lib\\site-packages\\pyspark\\context.py\u001b[0m in \u001b[0;36mgetOrCreate\u001b[1;34m(cls, conf)\u001b[0m\n\u001b[0;32m    341\u001b[0m         \u001b[1;32mwith\u001b[0m \u001b[0mSparkContext\u001b[0m\u001b[1;33m.\u001b[0m\u001b[0m_lock\u001b[0m\u001b[1;33m:\u001b[0m\u001b[1;33m\u001b[0m\u001b[0m\n\u001b[0;32m    342\u001b[0m             \u001b[1;32mif\u001b[0m \u001b[0mSparkContext\u001b[0m\u001b[1;33m.\u001b[0m\u001b[0m_active_spark_context\u001b[0m \u001b[1;32mis\u001b[0m \u001b[1;32mNone\u001b[0m\u001b[1;33m:\u001b[0m\u001b[1;33m\u001b[0m\u001b[0m\n\u001b[1;32m--> 343\u001b[1;33m                 \u001b[0mSparkContext\u001b[0m\u001b[1;33m(\u001b[0m\u001b[0mconf\u001b[0m\u001b[1;33m=\u001b[0m\u001b[0mconf\u001b[0m \u001b[1;32mor\u001b[0m \u001b[0mSparkConf\u001b[0m\u001b[1;33m(\u001b[0m\u001b[1;33m)\u001b[0m\u001b[1;33m)\u001b[0m\u001b[1;33m\u001b[0m\u001b[0m\n\u001b[0m\u001b[0;32m    344\u001b[0m             \u001b[1;32mreturn\u001b[0m \u001b[0mSparkContext\u001b[0m\u001b[1;33m.\u001b[0m\u001b[0m_active_spark_context\u001b[0m\u001b[1;33m\u001b[0m\u001b[0m\n\u001b[0;32m    345\u001b[0m \u001b[1;33m\u001b[0m\u001b[0m\n",
      "\u001b[1;32m~\\Anaconda3\\lib\\site-packages\\pyspark\\context.py\u001b[0m in \u001b[0;36m__init__\u001b[1;34m(self, master, appName, sparkHome, pyFiles, environment, batchSize, serializer, conf, gateway, jsc, profiler_cls)\u001b[0m\n\u001b[0;32m    113\u001b[0m         \"\"\"\n\u001b[0;32m    114\u001b[0m         \u001b[0mself\u001b[0m\u001b[1;33m.\u001b[0m\u001b[0m_callsite\u001b[0m \u001b[1;33m=\u001b[0m \u001b[0mfirst_spark_call\u001b[0m\u001b[1;33m(\u001b[0m\u001b[1;33m)\u001b[0m \u001b[1;32mor\u001b[0m \u001b[0mCallSite\u001b[0m\u001b[1;33m(\u001b[0m\u001b[1;32mNone\u001b[0m\u001b[1;33m,\u001b[0m \u001b[1;32mNone\u001b[0m\u001b[1;33m,\u001b[0m \u001b[1;32mNone\u001b[0m\u001b[1;33m)\u001b[0m\u001b[1;33m\u001b[0m\u001b[0m\n\u001b[1;32m--> 115\u001b[1;33m         \u001b[0mSparkContext\u001b[0m\u001b[1;33m.\u001b[0m\u001b[0m_ensure_initialized\u001b[0m\u001b[1;33m(\u001b[0m\u001b[0mself\u001b[0m\u001b[1;33m,\u001b[0m \u001b[0mgateway\u001b[0m\u001b[1;33m=\u001b[0m\u001b[0mgateway\u001b[0m\u001b[1;33m,\u001b[0m \u001b[0mconf\u001b[0m\u001b[1;33m=\u001b[0m\u001b[0mconf\u001b[0m\u001b[1;33m)\u001b[0m\u001b[1;33m\u001b[0m\u001b[0m\n\u001b[0m\u001b[0;32m    116\u001b[0m         \u001b[1;32mtry\u001b[0m\u001b[1;33m:\u001b[0m\u001b[1;33m\u001b[0m\u001b[0m\n\u001b[0;32m    117\u001b[0m             self._do_init(master, appName, sparkHome, pyFiles, environment, batchSize, serializer,\n",
      "\u001b[1;32m~\\Anaconda3\\lib\\site-packages\\pyspark\\context.py\u001b[0m in \u001b[0;36m_ensure_initialized\u001b[1;34m(cls, instance, gateway, conf)\u001b[0m\n\u001b[0;32m    290\u001b[0m         \u001b[1;32mwith\u001b[0m \u001b[0mSparkContext\u001b[0m\u001b[1;33m.\u001b[0m\u001b[0m_lock\u001b[0m\u001b[1;33m:\u001b[0m\u001b[1;33m\u001b[0m\u001b[0m\n\u001b[0;32m    291\u001b[0m             \u001b[1;32mif\u001b[0m \u001b[1;32mnot\u001b[0m \u001b[0mSparkContext\u001b[0m\u001b[1;33m.\u001b[0m\u001b[0m_gateway\u001b[0m\u001b[1;33m:\u001b[0m\u001b[1;33m\u001b[0m\u001b[0m\n\u001b[1;32m--> 292\u001b[1;33m                 \u001b[0mSparkContext\u001b[0m\u001b[1;33m.\u001b[0m\u001b[0m_gateway\u001b[0m \u001b[1;33m=\u001b[0m \u001b[0mgateway\u001b[0m \u001b[1;32mor\u001b[0m \u001b[0mlaunch_gateway\u001b[0m\u001b[1;33m(\u001b[0m\u001b[0mconf\u001b[0m\u001b[1;33m)\u001b[0m\u001b[1;33m\u001b[0m\u001b[0m\n\u001b[0m\u001b[0;32m    293\u001b[0m                 \u001b[0mSparkContext\u001b[0m\u001b[1;33m.\u001b[0m\u001b[0m_jvm\u001b[0m \u001b[1;33m=\u001b[0m \u001b[0mSparkContext\u001b[0m\u001b[1;33m.\u001b[0m\u001b[0m_gateway\u001b[0m\u001b[1;33m.\u001b[0m\u001b[0mjvm\u001b[0m\u001b[1;33m\u001b[0m\u001b[0m\n\u001b[0;32m    294\u001b[0m \u001b[1;33m\u001b[0m\u001b[0m\n",
      "\u001b[1;32m~\\Anaconda3\\lib\\site-packages\\pyspark\\java_gateway.py\u001b[0m in \u001b[0;36mlaunch_gateway\u001b[1;34m(conf)\u001b[0m\n\u001b[0;32m     91\u001b[0m \u001b[1;33m\u001b[0m\u001b[0m\n\u001b[0;32m     92\u001b[0m             \u001b[1;32mif\u001b[0m \u001b[1;32mnot\u001b[0m \u001b[0mos\u001b[0m\u001b[1;33m.\u001b[0m\u001b[0mpath\u001b[0m\u001b[1;33m.\u001b[0m\u001b[0misfile\u001b[0m\u001b[1;33m(\u001b[0m\u001b[0mconn_info_file\u001b[0m\u001b[1;33m)\u001b[0m\u001b[1;33m:\u001b[0m\u001b[1;33m\u001b[0m\u001b[0m\n\u001b[1;32m---> 93\u001b[1;33m                 \u001b[1;32mraise\u001b[0m \u001b[0mException\u001b[0m\u001b[1;33m(\u001b[0m\u001b[1;34m\"Java gateway process exited before sending its port number\"\u001b[0m\u001b[1;33m)\u001b[0m\u001b[1;33m\u001b[0m\u001b[0m\n\u001b[0m\u001b[0;32m     94\u001b[0m \u001b[1;33m\u001b[0m\u001b[0m\n\u001b[0;32m     95\u001b[0m             \u001b[1;32mwith\u001b[0m \u001b[0mopen\u001b[0m\u001b[1;33m(\u001b[0m\u001b[0mconn_info_file\u001b[0m\u001b[1;33m,\u001b[0m \u001b[1;34m\"rb\"\u001b[0m\u001b[1;33m)\u001b[0m \u001b[1;32mas\u001b[0m \u001b[0minfo\u001b[0m\u001b[1;33m:\u001b[0m\u001b[1;33m\u001b[0m\u001b[0m\n",
      "\u001b[1;31mException\u001b[0m: Java gateway process exited before sending its port number"
     ]
    }
   ],
   "source": [
    "%%time\n",
    "\n",
    "import os\n",
    "os.environ['HADOOP_HOME'] = H['/home/user/HADOOP']\n",
    "os.environ['SPARK_HOME'] = H['/home/user/HADOOP/spark-2.3.0-bin-hadoop2.7']\n",
    "os.environ['JAVA_HOME'] = H['/home/user/Program Files/java/8.0.172-zulu']\n",
    "\n",
    "print(\"os.environ['HADOOP_HOME'] = \"+os.environ['HADOOP_HOME'])\n",
    "print(\"os.environ['SPARK_HOME'] = \"+os.environ['SPARK_HOME'])\n",
    "print(\"os.environ['JAVA_HOME'] = \"+os.environ['JAVA_HOME'])\n",
    "\n",
    "def start():\n",
    "    import time\n",
    "    from pyspark.sql import SparkSession\n",
    "    res = SparkSession.builder.master('local').appName('test').getOrCreate()# \\\n",
    "       #.config('spark.sql.warehouse.dir', 'file:///' + WARE) \\\n",
    "       #.config(\"spark.driver.maxResultSize\", \"600g\") \\\n",
    "       #.config(\"spark.sql.shuffle.output.partitions\", \"32768\") \\\n",
    "       #.getOrCreate()\n",
    "    time.sleep(1)\n",
    "    return res\n",
    "\n",
    "def stop(sc):\n",
    "    print(\"ok\")\n",
    "    sc.stop()\n",
    "\n",
    "def preview(df):\n",
    "    df.show(n=3, truncate=False)\n",
    "\n",
    "WARE=H['/home/user/TMP/SPARK']\n",
    "os.makedirs(WARE, exist_ok=True)\n",
    "os.chmod(WARE, 0o777)\n",
    "spark=start()\n",
    "print(spark.version)\n",
    "\n",
    "print(Z)"
   ]
  },
  {
   "cell_type": "code",
   "execution_count": 5,
   "metadata": {},
   "outputs": [
    {
     "name": "stdout",
     "output_type": "stream",
     "text": [
      "ok\n",
      "Wall time: 0 ns\n"
     ]
    }
   ],
   "source": [
    "%%time\n",
    "\n",
    "def spark_table(name, sqlc):\n",
    "    import pyspark.storagelevel as L\n",
    "    import shutil\n",
    "    import pandas as pd\n",
    "    if name == SB+'_'+TB:\n",
    "        shutil.copyfile(DIR+\"/\"+\"manyphones.tsv\", WARE+\"/igDOL_\"+name+\".csv\")\n",
    "    else:\n",
    "        shutil.rmtree(WARE+\"/igDOL_\"+name+\".csv\")\n",
    "    q = [\"cast(_c\"+str(i)+\" as string) as \" + C[i][0] for i in range(len(C))]\n",
    "    qq = [(C[i][2] if len(C[i][2]) else C[i][0])+' as '+C[i][0] for i in range(len(C))]\n",
    "    return sqlc.read.option(\"escape\", \"\\\"\").option(\"quote\", \"\\\"\").option(\"sep\", \"\\t\").csv(WARE+\"/igDOL_\"+name+\".csv\",\n",
    "                header=False).persist(L.StorageLevel.MEMORY_AND_DISK).repartition(1).selectExpr(q).selectExpr(qq)\n",
    "\n",
    "def write_insert(df, dst):\n",
    "    df.write.option(\"escape\", \"\\\"\").option(\"quote\", \"\\\"\").csv(WARE+\"/igDOL_\"+dst, header=False, mode=\"Overwrite\")\n",
    "\n",
    "print(Z)"
   ]
  },
  {
   "cell_type": "code",
   "execution_count": 6,
   "metadata": {},
   "outputs": [
    {
     "ename": "NameError",
     "evalue": "name 'spark' is not defined",
     "output_type": "error",
     "traceback": [
      "\u001b[1;31m---------------------------------------------------------------------------\u001b[0m",
      "\u001b[1;31mNameError\u001b[0m                                 Traceback (most recent call last)",
      "\u001b[1;32m<ipython-input-6-9f5c6a500c9c>\u001b[0m in \u001b[0;36m<module>\u001b[1;34m()\u001b[0m\n\u001b[0;32m      5\u001b[0m \u001b[1;32mimport\u001b[0m \u001b[0mpyspark\u001b[0m\u001b[1;33m.\u001b[0m\u001b[0msql\u001b[0m\u001b[1;33m.\u001b[0m\u001b[0mtypes\u001b[0m \u001b[1;32mas\u001b[0m \u001b[0mT\u001b[0m\u001b[1;33m\u001b[0m\u001b[0m\n\u001b[0;32m      6\u001b[0m \u001b[1;33m\u001b[0m\u001b[0m\n\u001b[1;32m----> 7\u001b[1;33m \u001b[0mdf\u001b[0m \u001b[1;33m=\u001b[0m \u001b[0mspark_table\u001b[0m\u001b[1;33m(\u001b[0m\u001b[0mSB\u001b[0m\u001b[1;33m+\u001b[0m\u001b[1;34m\"_\"\u001b[0m\u001b[1;33m+\u001b[0m\u001b[0mTB\u001b[0m\u001b[1;33m,\u001b[0m \u001b[0mspark\u001b[0m\u001b[1;33m)\u001b[0m\u001b[1;33m\u001b[0m\u001b[0m\n\u001b[0m\u001b[0;32m      8\u001b[0m \u001b[0mwrite_insert\u001b[0m\u001b[1;33m(\u001b[0m\u001b[0mdf\u001b[0m\u001b[1;33m.\u001b[0m\u001b[0mcoalesce\u001b[0m\u001b[1;33m(\u001b[0m\u001b[1;36m1\u001b[0m\u001b[1;33m)\u001b[0m\u001b[1;33m,\u001b[0m \u001b[0mSB\u001b[0m\u001b[1;33m+\u001b[0m\u001b[1;34m\".\"\u001b[0m\u001b[1;33m+\u001b[0m\u001b[0mTB\u001b[0m\u001b[1;33m)\u001b[0m\u001b[1;33m\u001b[0m\u001b[0m\n\u001b[0;32m      9\u001b[0m \u001b[0mpreview\u001b[0m\u001b[1;33m(\u001b[0m\u001b[0mdf\u001b[0m\u001b[1;33m)\u001b[0m\u001b[1;33m\u001b[0m\u001b[0m\n",
      "\u001b[1;31mNameError\u001b[0m: name 'spark' is not defined"
     ]
    }
   ],
   "source": [
    "#%%time\n",
    "\n",
    "import pyspark.sql.functions as F\n",
    "import pyspark.sql.window as W\n",
    "import pyspark.sql.types as T\n",
    "\n",
    "df = spark_table(SB+\"_\"+TB, spark)\n",
    "write_insert(df.coalesce(1), SB+\".\"+TB)\n",
    "preview(df)\n",
    "\n",
    "print(Z)"
   ]
  },
  {
   "cell_type": "code",
   "execution_count": null,
   "metadata": {},
   "outputs": [],
   "source": [
    "%%time\n",
    "a=[]\n",
    "a.append((\"load_tags\", \"\", \"\"))\n",
    "a.append((\"load_rank\", \"BIGINT\", \"cast(load_rank as bigint)\"))\n",
    "print(\"(1) rename \"+WARE+\"/igDOL_\"+SB+\".\"+TB)\n",
    "print(\"part.csv to\")\n",
    "print(\"many.csv\")\n",
    "print(\"\")\n",
    "print(\"\")\n",
    "print(\"(2) upload to ambari (permissions 444)\")\n",
    "print(\"make folder\")\n",
    "print(\"/user/yurbasov/tmp/phones_many\")\n",
    "print(\"permissions 777\")\n",
    "print(\"\")\n",
    "print(\"\")\n",
    "print(\"(3) CREATE EXTERNAL TABLE \"+SB+\"_\"+TB+\"(\")\n",
    "print('\\n,'.join(['`'+C[i][0]+'`  string' for i in range(len(C))]))\n",
    "print(\")\")\n",
    "print(\"ROW FORMAT SERDE 'org.apache.hadoop.hive.serde2.OpenCSVSerde'\")\n",
    "print(\"WITH SERDEPROPERTIES (\")\n",
    "print(\"\\\"separatorChar\\\" = \\\",\\\",\")\n",
    "print(\"\\\"quoteChar\\\"     = \\\"\\\\\\\"\\\"\")\n",
    "print(\") STORED as textfile LOCATION '/user/yurbasov/tmp/phones_many/'\")\n",
    "print(\"\")\n",
    "print(\"\")\n",
    "print(\"(4) CREATE TABLE \"+SB+\"_\"+AB+\"(\")\n",
    "print('\\n,'.join(['`'+C[i][0]+'`  ' + (C[i][1] if len(C[i][1]) else 'string') for i in range(len(C))]))\n",
    "print(\",\")\n",
    "print('\\n,'.join(['`'+a[i][0]+'`  ' + (a[i][1] if len(a[i][1]) else 'string') for i in range(len(a))]))\n",
    "print(\") STORED AS ORC tblproperties (\\\"orc.compress\\\"=\\\"SNAPPY\\\")\")\n",
    "print(\"\")\n",
    "print(\"\")\n",
    "print(\"(5) INSERT INTO \"+SB+\"_\"+AB)\n",
    "print(\"SELECT\")\n",
    "print('\\n,'.join(['case when `'+C[i][0]+'`=\\'\\' then null else '+(C[i][2] if len(C[i][2]) else C[i][0])+' end as '+C[i][0] for i in range(len(C))]))\n",
    "print(',\"\" as load_tags')\n",
    "print(',row_number() over() as load_rank')\n",
    "print(\" FROM \"+SB+\"_\"+TB)\n",
    "print(\"\")\n",
    "print(\"\")\n",
    "print(\"(6) rename \"+WARE+\"/igDOL_\"+SB+\".\"+BC)\n",
    "print(\"part.csv to\")\n",
    "print(\"dict.csv\")\n",
    "print(\"\")\n",
    "print(\"\")\n",
    "print(Z)"
   ]
  },
  {
   "cell_type": "code",
   "execution_count": null,
   "metadata": {},
   "outputs": [],
   "source": []
  }
 ],
 "metadata": {
  "kernelspec": {
   "display_name": "Python 3",
   "language": "python",
   "name": "python3"
  },
  "language_info": {
   "codemirror_mode": {
    "name": "ipython",
    "version": 3
   },
   "file_extension": ".py",
   "mimetype": "text/x-python",
   "name": "python",
   "nbconvert_exporter": "python",
   "pygments_lexer": "ipython3",
   "version": "3.6.5"
  }
 },
 "nbformat": 4,
 "nbformat_minor": 2
}
