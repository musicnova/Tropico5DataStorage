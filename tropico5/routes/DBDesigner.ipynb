{
 "cells": [
  {
   "cell_type": "code",
   "execution_count": 19,
   "metadata": {
    "collapsed": true
   },
   "outputs": [],
   "source": [
    "import os\n",
    "data_dir = '/home/user/ALBINA/PPR/PROFILE'"
   ]
  },
  {
   "cell_type": "code",
   "execution_count": 20,
   "metadata": {},
   "outputs": [
    {
     "name": "stdout",
     "output_type": "stream",
     "text": [
      "        0                 1  \\\n",
      "4  secret             regno   \n",
      "5    dict            d_date   \n",
      "6    dict  d_coords_regions   \n",
      "\n",
      "                                                   2             3  \\\n",
      "4          Справочник соответствий ГРЗ и их хэш-сумм        secret   \n",
      "5                         Справочник дат (календарь)         dicts   \n",
      "6  Справочник соответствия районов Москвы координ...  geolocations   \n",
      "\n",
      "                      4  5  6  \n",
      "4                 regno  N  N  \n",
      "5         d_date_export  Y  Y  \n",
      "6  coord_regions_2digit  Y  Y  \n"
     ]
    }
   ],
   "source": [
    "import pandas as pd\n",
    "df_tables = pd.read_csv(os.path.join(data_dir, '03.csv'), sep=';', header=None)\n",
    "df_tables = df_tables[df_tables.index>3]\n",
    "print (df_tables.head(3))"
   ]
  },
  {
   "cell_type": "code",
   "execution_count": 21,
   "metadata": {},
   "outputs": [
    {
     "name": "stdout",
     "output_type": "stream",
     "text": [
      "   0       1       2           3  \\\n",
      "4  4  secret  phones  phone_hash   \n",
      "5  5  secret   regno       regno   \n",
      "6  5  secret   regno  regno_hash   \n",
      "\n",
      "                                                   4    5  \n",
      "4  string - хэш телефонного номера для декодирования  NaN  \n",
      "5  string - регистрационный номер автомобиля (???...  NaN  \n",
      "6  string - хэш регистрационного номера для декод...  NaN  \n"
     ]
    }
   ],
   "source": [
    "import pandas as pd\n",
    "df_data = df_tables[df_tables[3] == 'parking_data']\n",
    "print (df_data.head(3))"
   ]
  },
  {
   "cell_type": "code",
   "execution_count": 39,
   "metadata": {},
   "outputs": [
    {
     "name": "stdout",
     "output_type": "stream",
     "text": [
      "Empty DataFrame\n",
      "Columns: [0, 1, 2, 3, 4, 5, 6]\n",
      "Index: []\n"
     ]
    }
   ],
   "source": [
    "import pandas as pd\n",
    "df_fields = pd.read_csv(os.path.join(data_dir, '04.csv'), sep=',', header=None)\n",
    "df_fields = df_fields[df_fields.index>3]\n",
    "print (df_fields.head(3))"
   ]
  },
  {
   "cell_type": "code",
   "execution_count": 23,
   "metadata": {},
   "outputs": [
    {
     "name": "stdout",
     "output_type": "stream",
     "text": [
      "   0            1                                                2  \\\n",
      "4  4  D_PASSENGER  Пассажиры Московского ОТ и автомобилисты Москвы   \n",
      "5  5  D_PASSENGER  Пассажиры Московского ОТ и автомобилисты Москвы   \n",
      "6  6  D_PASSENGER  Пассажиры Московского ОТ и автомобилисты Москвы   \n",
      "\n",
      "                      3                       4    5                        6  \\\n",
      "4              CARD_NUM      Номер карты Тройка    +  Мастер-данные пассажира   \n",
      "5  AUTO_STATE_REG_NUM_1  Номер ГРЗ автомобиля 1  NaN  Мастер-данные пассажира   \n",
      "6  AUTO_STATE_REG_NUM_2  Номер ГРЗ автомобиля 2  NaN  Мастер-данные пассажира   \n",
      "\n",
      "            7    8    9  \n",
      "4  28.02.2018  NaN  NaN  \n",
      "5  28.02.2018  NaN  NaN  \n",
      "6  28.02.2018  NaN  NaN  \n"
     ]
    }
   ],
   "source": [
    "import pandas as pd\n",
    "df_profiles = pd.read_csv(os.path.join(data_dir, '00.csv'), sep=';', header=None)\n",
    "df_profiles = df_profiles[df_profiles.index>3]\n",
    "print (df_profiles.head(3))"
   ]
  },
  {
   "cell_type": "code",
   "execution_count": 24,
   "metadata": {},
   "outputs": [
    {
     "name": "stdout",
     "output_type": "stream",
     "text": [
      "                                 0\n",
      "0         identifikator_passazhira\n",
      "1        nomer_telefona_passazhira\n",
      "2  hash_nomera_telefona_passazhira\n"
     ]
    }
   ],
   "source": [
    "import pandas as pd\n",
    "df_1_d_passenger = pd.read_csv(os.path.join(data_dir, 'EN_D_PASSENGER.txt'), sep=';', header=None)\n",
    "print (df_1_d_passenger.head(3))"
   ]
  },
  {
   "cell_type": "code",
   "execution_count": 25,
   "metadata": {},
   "outputs": [
    {
     "name": "stdout",
     "output_type": "stream",
     "text": [
      "                                                   0\n",
      "0                           identifikator_passazhira\n",
      "1                  identifikator_zolotogo_passazhira\n",
      "2  data_ustanovki_sootvetstviya_mezhdu_passazhiro...\n"
     ]
    }
   ],
   "source": [
    "import pandas as pd\n",
    "df_2_s_gold_passenger = pd.read_csv(os.path.join(data_dir, 'EN_S_GOLD_PASSENGER.txt'), sep=';', header=None)\n",
    "print (df_2_s_gold_passenger.head(3))"
   ]
  },
  {
   "cell_type": "code",
   "execution_count": 26,
   "metadata": {},
   "outputs": [
    {
     "name": "stdout",
     "output_type": "stream",
     "text": [
      "                           0\n",
      "0   identifikator_passazhira\n",
      "1  tabelnyj_nomer_sotrudnika\n",
      "2          status_zanyatosti\n"
     ]
    }
   ],
   "source": [
    "import pandas as pd\n",
    "df_3_d_employee = pd.read_csv(os.path.join(data_dir, 'EN_D_EMPLOYEE.txt'), sep=';', header=None)\n",
    "print (df_3_d_employee.head(3))"
   ]
  },
  {
   "cell_type": "code",
   "execution_count": 27,
   "metadata": {},
   "outputs": [
    {
     "name": "stdout",
     "output_type": "stream",
     "text": [
      "                                                   0\n",
      "0                            identifikator_marshruta\n",
      "1                  identifikator_obratnogo_marshruta\n",
      "2  identifikator_stancii_nachala_marshruta_vneshn...\n"
     ]
    }
   ],
   "source": [
    "import pandas as pd\n",
    "df_4_d_subway_route_graph = pd.read_csv(os.path.join(data_dir, 'EN_D_SUBWAY_ROUTE_GRAPH.txt'), sep=';', header=None)\n",
    "print (df_4_d_subway_route_graph.head(3))"
   ]
  },
  {
   "cell_type": "code",
   "execution_count": 28,
   "metadata": {},
   "outputs": [
    {
     "name": "stdout",
     "output_type": "stream",
     "text": [
      "                             0\n",
      "0  identifikator_stancii_metro\n",
      "1   naimenovanie_stancii_metro\n",
      "2     naimenovanie_vetki_metro\n"
     ]
    }
   ],
   "source": [
    "import pandas as pd\n",
    "df_5_d_subway_station = pd.read_csv(os.path.join(data_dir, 'EN_D_SUBWAY_STATION.txt'), sep=';', header=None)\n",
    "print (df_5_d_subway_station.head(3))"
   ]
  },
  {
   "cell_type": "code",
   "execution_count": 29,
   "metadata": {},
   "outputs": [
    {
     "name": "stdout",
     "output_type": "stream",
     "text": [
      "                                                   0\n",
      "0                            identifikator_marshruta\n",
      "1  identifikator_obratnogo_marshruta_vneshnij_kly...\n",
      "2  identifikator_ostanovki_nachala_marshruta_vnes...\n"
     ]
    }
   ],
   "source": [
    "import pandas as pd\n",
    "df_6_d_public_route_graph = pd.read_csv(os.path.join(data_dir, 'EN_D_PUBLIC_ROUTE_GRAPH.txt'), sep=';', header=None)\n",
    "print (df_6_d_public_route_graph.head(3))"
   ]
  },
  {
   "cell_type": "code",
   "execution_count": 30,
   "metadata": {},
   "outputs": [
    {
     "name": "stdout",
     "output_type": "stream",
     "text": [
      "                              0\n",
      "0  identifikator_ostanovki_ngpt\n",
      "1   naimenovanie_ostanovki_ngpt\n",
      "2        marshrutnyj_nomer_ngpt\n"
     ]
    }
   ],
   "source": [
    "import pandas as pd\n",
    "df_7_d_public_stop = pd.read_csv(os.path.join(data_dir, 'EN_D_PUBLIC_STOP.txt'), sep=';', header=None)\n",
    "print (df_7_d_public_stop.head(3))"
   ]
  },
  {
   "cell_type": "code",
   "execution_count": 31,
   "metadata": {},
   "outputs": [
    {
     "name": "stdout",
     "output_type": "stream",
     "text": [
      "                                                 0\n",
      "0         identifikator_obedinyonnogo_marshruta_ot\n",
      "1      lokaciya_nachala_obedinyonnogo_marshruta_ot\n",
      "2  lokaciya_okonchaniya_obedinyonnogo_marshruta_ot\n"
     ]
    }
   ],
   "source": [
    "import pandas as pd\n",
    "df_8_d_joint_route_graph = pd.read_csv(os.path.join(data_dir, 'EN_D_JOINT_ROUTE_GRAPH.txt'), sep=';', header=None)\n",
    "print (df_8_d_joint_route_graph.head(3))"
   ]
  },
  {
   "cell_type": "code",
   "execution_count": 32,
   "metadata": {},
   "outputs": [
    {
     "name": "stdout",
     "output_type": "stream",
     "text": [
      "                                                   0\n",
      "0  idenifikator_passazhira_vneshnij_klyuch_na_d_p...\n",
      "1  identifikator_unikalngo_marshruta_pasazhira_vn...\n",
      "2  iz-pod_ehtoj_ssylki_dostayutsya_i_vse_stancii_...\n"
     ]
    }
   ],
   "source": [
    "import pandas as pd\n",
    "df_9_f_subway_route = pd.read_csv(os.path.join(data_dir, 'EN_F_SUBWAY_ROUTE.txt'), sep=';', header=None)\n",
    "print (df_9_f_subway_route.head(3))"
   ]
  },
  {
   "cell_type": "code",
   "execution_count": 33,
   "metadata": {},
   "outputs": [
    {
     "name": "stdout",
     "output_type": "stream",
     "text": [
      "                                                   0\n",
      "0  idenifikator_passazhira_vneshnij_klyuch_na_d_p...\n",
      "1  identifikator_unikalngo_marshruta_pasazhira_vn...\n",
      "2  iz-pod_ehtoj_ssylki_dostayutsya_i_vse_stancii_...\n"
     ]
    }
   ],
   "source": [
    "import pandas as pd\n",
    "df_10_f_public_route = pd.read_csv(os.path.join(data_dir, 'EN_F_PUBLIC_ROUTE.txt'), sep=';', header=None)\n",
    "print (df_10_f_public_route.head(3))"
   ]
  },
  {
   "cell_type": "code",
   "execution_count": 34,
   "metadata": {},
   "outputs": [
    {
     "name": "stdout",
     "output_type": "stream",
     "text": [
      "                                                   0\n",
      "0  idenifikator_passazhira_vneshnij_klyuch_na_d_p...\n",
      "1  identifikator_unikalngo_marshruta_pasazhira_vn...\n",
      "2  iz-pod_ehtoj_ssylki_dostayutsya_i_vse_stancii_...\n"
     ]
    }
   ],
   "source": [
    "import pandas as pd\n",
    "df_11_f_auto_route = pd.read_csv(os.path.join(data_dir, 'EN_F_AUTO_ROUTE.txt'), sep=';', header=None)\n",
    "print (df_11_f_auto_route.head(3))"
   ]
  },
  {
   "cell_type": "code",
   "execution_count": 35,
   "metadata": {},
   "outputs": [
    {
     "name": "stdout",
     "output_type": "stream",
     "text": [
      "           0\n",
      "0     tip_ot\n",
      "1    -_metro\n",
      "2  -_avtobus\n"
     ]
    }
   ],
   "source": [
    "import pandas as pd\n",
    "df_12_f_temp_change_event = pd.read_csv(os.path.join(data_dir, 'EN_F_TEMP_CHANGE_EVENT.txt'), sep=';', header=None)\n",
    "print (df_12_f_temp_change_event.head(3))"
   ]
  },
  {
   "cell_type": "code",
   "execution_count": 36,
   "metadata": {},
   "outputs": [
    {
     "name": "stdout",
     "output_type": "stream",
     "text": [
      "                         0\n",
      "0    naimenovanie_sobytiya\n",
      "1    data_nachala_sobytiya\n",
      "2  vremya_nachala_sobytiya\n"
     ]
    }
   ],
   "source": [
    "import pandas as pd\n",
    "df_13_f_moscow_event = pd.read_csv(os.path.join(data_dir, 'EN_F_MOSCOW_EVENT.txt'), sep=';', header=None)\n",
    "print (df_13_f_moscow_event.head(3))"
   ]
  },
  {
   "cell_type": "code",
   "execution_count": 37,
   "metadata": {
    "collapsed": true
   },
   "outputs": [],
   "source": [
    "import pandas as pd"
   ]
  }
 ],
 "metadata": {
  "anaconda-cloud": {},
  "kernelspec": {
   "display_name": "Python [default]",
   "language": "python",
   "name": "python3"
  },
  "language_info": {
   "codemirror_mode": {
    "name": "ipython",
    "version": 3
   },
   "file_extension": ".py",
   "mimetype": "text/x-python",
   "name": "python",
   "nbconvert_exporter": "python",
   "pygments_lexer": "ipython3",
   "version": "3.5.4"
  }
 },
 "nbformat": 4,
 "nbformat_minor": 2
}
