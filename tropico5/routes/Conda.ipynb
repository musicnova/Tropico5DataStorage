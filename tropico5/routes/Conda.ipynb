{
 "cells": [
  {
   "cell_type": "code",
   "execution_count": 1,
   "metadata": {},
   "outputs": [
    {
     "name": "stdout",
     "output_type": "stream",
     "text": [
      "Fetching package metadata ...........\n",
      "Solving package specifications: .\n",
      "\n",
      "Package plan for installation in environment /home/user/anaconda3:\n",
      "\n",
      "The following NEW packages will be INSTALLED:\n",
      "\n",
      "    conda-verify: 2.0.0-py35he912c7b_0            \n",
      "\n",
      "The following packages will be UPDATED:\n",
      "\n",
      "    conda:        4.3.34-py35_0        conda-forge --> 4.4.10-py35_0\n",
      "    conda-build:  2.0.2-py35_0                     --> 3.4.2-py35_0 \n",
      "\n",
      "conda-verify-2 100% |################################| Time: 0:00:00   2.77 MB/s\n",
      "conda-4.4.10-p 100% |################################| Time: 0:00:00   7.11 MB/s\n",
      "conda-build-3. 100% |################################| Time: 0:00:00  15.00 MB/s\n"
     ]
    }
   ],
   "source": [
    "!conda install -y conda-build"
   ]
  },
  {
   "cell_type": "code",
   "execution_count": 2,
   "metadata": {},
   "outputs": [
    {
     "name": "stdout",
     "output_type": "stream",
     "text": [
      "Collecting datalakeplan\n",
      "  Downloading datalakeplan-0.0.2.tar.gz\n",
      "Building wheels for collected packages: datalakeplan\n",
      "  Running setup.py bdist_wheel for datalakeplan ... \u001b[?25ldone\n",
      "\u001b[?25h  Stored in directory: /home/user/.cache/pip/wheels/4a/e3/08/3874dad1bfae2e2dd6c70b6104a6272df30047c600d228befc\n",
      "Successfully built datalakeplan\n",
      "Installing collected packages: datalakeplan\n",
      "Successfully installed datalakeplan-0.0.2\n"
     ]
    }
   ],
   "source": [
    "!pip install datalakeplan"
   ]
  },
  {
   "cell_type": "code",
   "execution_count": 4,
   "metadata": {},
   "outputs": [
    {
     "name": "stdout",
     "output_type": "stream",
     "text": [
      "ok\n"
     ]
    }
   ],
   "source": [
    "from datalakeplan import VaultExcel as VExcel\n",
    "\n",
    "VExcel.create_project()\n"
   ]
  },
  {
   "cell_type": "code",
   "execution_count": null,
   "metadata": {},
   "outputs": [],
   "source": []
  }
 ],
 "metadata": {
  "anaconda-cloud": {},
  "kernelspec": {
   "display_name": "Python [default]",
   "language": "python",
   "name": "python3"
  },
  "language_info": {
   "codemirror_mode": {
    "name": "ipython",
    "version": 3
   },
   "file_extension": ".py",
   "mimetype": "text/x-python",
   "name": "python",
   "nbconvert_exporter": "python",
   "pygments_lexer": "ipython3",
   "version": "3.5.4"
  }
 },
 "nbformat": 4,
 "nbformat_minor": 2
}
