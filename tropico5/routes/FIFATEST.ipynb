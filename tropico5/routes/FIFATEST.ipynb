{
 "cells": [
  {
   "cell_type": "code",
   "execution_count": 13,
   "metadata": {},
   "outputs": [
    {
     "name": "stdout",
     "output_type": "stream",
     "text": [
      "   0                                 1            2           K1\n",
      "1  2  ccc5305c12dda67d034b58a85a530502  79296142655  79296142655\n",
      "2  2  59a2dfb3916ec2c4a387ef5cf9aa7a7b  79255177370  79255177370\n",
      "3  2  4e006782fd182b28cd9dd4127dfba629  79255156351  79255156351\n"
     ]
    }
   ],
   "source": [
    "import os\n",
    "data_dir = '/home/user/ALBINA/RITA/AUTO_FIFATEST'\n",
    "\n",
    "import pandas as pd\n",
    "df = pd.read_csv(os.path.join(data_dir, 'park30013201.csv'), sep=',', header=None, encoding='cp1251')\n",
    "df = df[df.index > 0]\n",
    "df['K1'] = df.apply(lambda row: str(row[2]), axis=1)\n",
    "print (df.head(3))"
   ]
  },
  {
   "cell_type": "code",
   "execution_count": 14,
   "metadata": {},
   "outputs": [
    {
     "name": "stdout",
     "output_type": "stream",
     "text": [
      "            K2\n",
      "1  79684364090\n",
      "2  79162972071\n",
      "3  79165779729\n"
     ]
    }
   ],
   "source": [
    "df_before = pd.read_csv(os.path.join(data_dir, 'fifatest.csv'), sep=',', header=None, encoding='cp1251')\n",
    "df_before = df_before[df_before.index > 0]\n",
    "df_before['K2'] = df_before.apply(lambda row: str(row[0]), axis=1)\n",
    "df_before = df_before[['K2']]\n",
    "print (df_before.head(3))"
   ]
  },
  {
   "cell_type": "code",
   "execution_count": 15,
   "metadata": {},
   "outputs": [
    {
     "name": "stdout",
     "output_type": "stream",
     "text": [
      "  КОЛВО                               ХЭШ          ТЕЛ\n",
      "0     2  ccc5305c12dda67d034b58a85a530502  79296142655\n",
      "2     2  4e006782fd182b28cd9dd4127dfba629  79255156351\n",
      "3    13  719a7ff20d543c33b64bd4e65c9f81f9  79255071661\n"
     ]
    }
   ],
   "source": [
    "df_result = pd.merge(df, df_before, how=\"left\", left_on=\"K1\", right_on=\"K2\")\n",
    "df_result['КОЛВО'] = df_result[0]\n",
    "df_result['ХЭШ'] = df_result[1]\n",
    "df_result['ТЕЛ'] = df_result[2]\n",
    "\n",
    "df_result = df_result[df_result['K2'] != df_result['K1']]\n",
    "df_result = df_result[['КОЛВО', 'ХЭШ', 'ТЕЛ']]\n",
    "print (df_result.head(3))"
   ]
  },
  {
   "cell_type": "code",
   "execution_count": 16,
   "metadata": {},
   "outputs": [
    {
     "name": "stdout",
     "output_type": "stream",
     "text": [
      "ok\n"
     ]
    }
   ],
   "source": [
    "df_result.to_csv(os.path.join(data_dir, 'result.csv'), index=False, sep=';', quoting=None, encoding='cp1251')\n",
    "print(\"ok\")"
   ]
  }
 ],
 "metadata": {
  "anaconda-cloud": {},
  "kernelspec": {
   "display_name": "Python [default]",
   "language": "python",
   "name": "python3"
  },
  "language_info": {
   "codemirror_mode": {
    "name": "ipython",
    "version": 3
   },
   "file_extension": ".py",
   "mimetype": "text/x-python",
   "name": "python",
   "nbconvert_exporter": "python",
   "pygments_lexer": "ipython3",
   "version": "3.5.4"
  }
 },
 "nbformat": 4,
 "nbformat_minor": 2
}
