{
 "cells": [
  {
   "cell_type": "code",
   "execution_count": 1,
   "metadata": {},
   "outputs": [
    {
     "name": "stdout",
     "output_type": "stream",
     "text": [
      "Hello\n"
     ]
    }
   ],
   "source": [
    "#!conda install -y -c conda-forge pygithub\n",
    "print(\"Hello\")"
   ]
  },
  {
   "cell_type": "code",
   "execution_count": null,
   "metadata": {},
   "outputs": [],
   "source": [
    "lst = [\"https://github.com/apache/incubator-airflow\", \n",
    "\"https://github.com/ssadedin/bpipe\", \n",
    "\"https://github.com/bloomreach/briefly\", \n",
    "\"https://github.com/monajemi/clusterjob\", \n",
    "\"https://github.com/tburdett/Conan2\", \n",
    "\"https://github.com/broadinstitute/cromwell\", \n",
    "\"https://github.com/joergen7/cuneiform\", \n",
    "\"https://github.com/googlegenomics/dockerflow\", \n",
    "\"https://github.com/thieman/dagobah\", \n",
    "\"https://github.com/Factual/drake\", \n",
    "\"https://github.com/druths/xp\", \n",
    "\"https://github.com/sahilseth/flowr\", \n",
    "\"https://github.com/mailund/gwf\", \n",
    "\"https://github.com/Ensembl/ensembl-hive\", \n",
    "\"https://github.com/hammerlab/ketrew\", \n",
    "\"https://github.com/jtaghiyar/kronos\", \n",
    "\"https://github.com/StanfordBioinformatics/loom\", \n",
    "\"https://github.com/spotify/luigi\", \n",
    "\"https://github.com/intentmedia/mario\", \n",
    "\"https://github.com/openstack/mistral\", \n",
    "\"https://github.com/mfiers/Moa\", \n",
    "\"https://github.com/nipy/nipype\", \n",
    "\"https://github.com/adaptivegenome/openge\", \n",
    "\"https://github.com/fstrozzi/bioruby-pipengine\", \n",
    "\"https://github.com/pinterest/pinball\", \n",
    "\"https://github.com/Illumina/pyflow\", \n",
    "\"https://github.com/PacificBiosciences/pypeFLOW\", \n",
    "\"https://github.com/masa16/pwrake\", \n",
    "\"https://github.com/alastair-droop/qsubsec\", \n",
    "\"https://github.com/rabix/rabix\", \n",
    "\"https://github.com/richfitz/remake\", \n",
    "\"https://github.com/bjpop/rubra\", \n",
    "\"https://github.com/kirillseva/ruigi\", \n",
    "\"https://github.com/pharmbio/sciluigi\", \n",
    "\"https://github.com/soravux/scoop\", \n",
    "\"https://github.com/knipknap/SpiffWorkflow\", \n",
    "\"https://github.com/Netflix/suro\", \n",
    "\"https://github.com/BD2KGenomics/toil\", \n",
    "\"https://github.com/pcingola/BigDataScript\", \n",
    "\"https://github.com/ewels/clusterflow\", \n",
    "\"https://github.com/LPM-HMS/COSMOS2\", \n",
    "\"https://github.com/pydoit/doit\", \n",
    "\"https://github.com/joblib/joblib\", \n",
    "\"https://github.com/HECBioSim/Longbow\", \n",
    "\"https://github.com/cooperative-computing-lab/cctools\", \n",
    "\"https://github.com/nextflow-io/nextflow\", \n",
    "\"https://github.com/tonyfischetti/sake\", \n",
    "\"https://github.com/swift-lang/swift-k\", \n",
    "\"https://github.com/Novartis/yap\", \n",
    "\"https://github.com/davidsoergel/worldmake\"]"
   ]
  },
  {
   "cell_type": "code",
   "execution_count": null,
   "metadata": {},
   "outputs": [
    {
     "name": "stdout",
     "output_type": "stream",
     "text": [
      "1451595600\n",
      "1483217940\n",
      "FAIL apache/incubator-airflow\n",
      "FAIL ssadedin/bpipe\n",
      "FAIL bloomreach/briefly\n",
      "FAIL monajemi/clusterjob\n",
      "FAIL tburdett/Conan2\n",
      "FAIL broadinstitute/cromwell\n"
     ]
    }
   ],
   "source": [
    "import time\n",
    "import datetime\n",
    "s1 = \"01/01/2016 00:00\"\n",
    "t1 = time.mktime(datetime.datetime.strptime(s1, \"%d/%m/%Y %H:%M\").timetuple())\n",
    "x1 = str(int(t1))\n",
    "print(x1)\n",
    "s2 = \"31/12/2016 23:59\"\n",
    "t2 = time.mktime(datetime.datetime.strptime(s2, \"%d/%m/%Y %H:%M\").timetuple())\n",
    "x2 = str(int(t2))\n",
    "print(x2)\n",
    "\n",
    "# TODO Обёртка: https://github.com/PyGithub/PyGithub\n",
    "# g.get_repo(\"user/rep\")  # получение репа\n",
    "# r.get_commits(...)  # получения списка страниц\n",
    "#     pl.get_page(0)  # получение коммитов\n",
    "from github import Github\n",
    "g = Github(\"musicnova\", \"secret\")\n",
    "\n",
    "s = 0\n",
    "for x in lst:\n",
    "    u = x.replace('https://github.com/', '')\n",
    "    try:\n",
    "        r = g.get_repo(u)\n",
    "        for pl in r.get_commits():\n",
    "            cnt = len(pl.get_page(0))\n",
    "            print(cnt)\n",
    "            s = s + cnt\n",
    "    except:\n",
    "        print(\"FAIL \" + u)\n",
    "        pass\n",
    "print(s)\n",
    "# import requests\n",
    "\n",
    "# s = 0\n",
    "# for g in lst:\n",
    "#    u = g.replace('https://github.com/', '')\n",
    "#    url = 'https://api.github.com/repos/' + u + '/commits?sha=master&since=' + x1 + '&until=' + x2\n",
    "#    print(url)\n",
    "#    for p in range(1, 2):\n",
    "#        response = requests.get(url+'&page='+str(p)+'&per_page=100000')\n",
    "#        try:\n",
    "#            #с 0:00 1 января 2016 года по 23:59 31 декабря 2016 года\n",
    "#            # https://developer.github.com/v3/repos/commits/\n",
    "#            data = response.json()\n",
    "#            cnt = len(data)\n",
    "#            if not isinstance(data, list):\n",
    "#                print(str(data))\n",
    "#            else:\n",
    "#                print(cnt)\n",
    "#                s = s + cnt\n",
    "#        except requests.exceptions.HTTPError as err:\n",
    "#            break\n",
    "\n",
    "#print(s)"
   ]
  },
  {
   "cell_type": "code",
   "execution_count": null,
   "metadata": {},
   "outputs": [],
   "source": []
  }
 ],
 "metadata": {
  "anaconda-cloud": {},
  "kernelspec": {
   "display_name": "Python [default]",
   "language": "python",
   "name": "python3"
  },
  "language_info": {
   "codemirror_mode": {
    "name": "ipython",
    "version": 3
   },
   "file_extension": ".py",
   "mimetype": "text/x-python",
   "name": "python",
   "nbconvert_exporter": "python",
   "pygments_lexer": "ipython3",
   "version": "3.5.4"
  }
 },
 "nbformat": 4,
 "nbformat_minor": 2
}
