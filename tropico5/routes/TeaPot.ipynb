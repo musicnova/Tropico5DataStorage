{
 "cells": [
  {
   "cell_type": "code",
   "execution_count": null,
   "metadata": {},
   "outputs": [
    {
     "name": "stdout",
     "output_type": "stream",
     "text": [
      "     amount atm_address  atm_address_lat  atm_address_lon        city country  \\\n",
      "0  2.211818         NaN              NaN              NaN  IVANTEEVKA     RUS   \n",
      "1  1.331379         NaN              NaN              NaN  IVANTEEVKA     RUS   \n",
      "2  2.608004         NaN              NaN              NaN    PUSHKINO     RUS   \n",
      "\n",
      "   currency                       customer_id    mcc  \\\n",
      "0     643.0  00fd410f5c580c8351cafa88d82b60f3  5,411   \n",
      "1     643.0  00fd410f5c580c8351cafa88d82b60f3  4,111   \n",
      "2     643.0  00fd410f5c580c8351cafa88d82b60f3  5,411   \n",
      "\n",
      "                                     pos_address  pos_address_lat  \\\n",
      "0   2-1 TOLMACHEVA STRIVANTEEVKA141280    RUSRUS        55.967487   \n",
      "1        SOVETSKIJ, 32IVANTEEVKA141282    RUSRUS        55.971296   \n",
      "2  105,KRASOARMEYSKOE SHPUSHKINO141206    RUSRUS        56.016591   \n",
      "\n",
      "   pos_address_lon                       terminal_id transaction_date  \n",
      "0        37.913682  ff0476dae4b098a7b16aabe93d4268df       2017-08-24  \n",
      "1        37.905184  7cfd9a60282459d4692ecc85b856072e       2017-08-12  \n",
      "2        37.909098  7e5a532f0029861d8a9c4f0479b9450b       2017-06-17  \n"
     ]
    },
    {
     "name": "stderr",
     "output_type": "stream",
     "text": [
      "/home/user/anaconda3/lib/python3.5/site-packages/IPython/core/interactiveshell.py:2698: DtypeWarning: Columns (1,8,9) have mixed types. Specify dtype option on import or set low_memory=False.\n",
      "  interactivity=interactivity, compiler=compiler, result=result)\n"
     ]
    }
   ],
   "source": [
    "import os\n",
    "data_dir = '/home/user/HR/RAIF/BOOSTERS'\n",
    "\n",
    "import pandas as pd\n",
    "df_test = pd.read_csv(os.path.join(data_dir, 'test_set.csv'), sep=',', encoding='utf-8')\n",
    "print (df_test.head(3))"
   ]
  },
  {
   "cell_type": "code",
   "execution_count": null,
   "metadata": {},
   "outputs": [
    {
     "name": "stderr",
     "output_type": "stream",
     "text": [
      "/home/user/anaconda3/lib/python3.5/site-packages/IPython/core/interactiveshell.py:2698: DtypeWarning: Columns (1,11) have mixed types. Specify dtype option on import or set low_memory=False.\n",
      "  interactivity=interactivity, compiler=compiler, result=result)\n"
     ]
    }
   ],
   "source": [
    "import pandas as pd\n",
    "def parse_ww(s_date):\n",
    "    import datetime\n",
    "    try:\n",
    "        ts = datetime.datetime.strptime(s_date, \"%Y-%m-%d\").date()\n",
    "        return ts.weekday()\n",
    "    except ValueError:\n",
    "        return -1\n",
    "\n",
    "df_train = pd.read_csv(os.path.join(data_dir, 'train_set.csv'), sep=',', encoding='utf-8')\n",
    "df_train['city'] = df_train.apply(lambda row: str(row['city']).upper(), axis=1)\n",
    "df_train['ww'] = df_train.apply(lambda row: parse_ww(str(row['transaction_date'])), axis=1)\n",
    "print (df_train.head(3))"
   ]
  },
  {
   "cell_type": "code",
   "execution_count": null,
   "metadata": {},
   "outputs": [],
   "source": [
    "import pandas as pd\n",
    "df_sample = pd.read_csv(os.path.join(data_dir, 'sample.csv'), sep=',', encoding='utf-8')\n",
    "print (df_sample.head(3))"
   ]
  },
  {
   "cell_type": "code",
   "execution_count": null,
   "metadata": {},
   "outputs": [],
   "source": [
    "import pandas as pd\n",
    "# TODO: очистка - написаны города по разному, банкоматы имеют неточные координаты - лучше взять город из GEOCODER\n",
    "# TODO: очистка - на train у одного и того же человека несколько домов и работ или иногда ни одной\n",
    "\n",
    "# TODO: 1.Z** взять самый частый банкомат в будни и список остальных (почистить утро-вечер на дом-работа)\n",
    "# TODO: 1.A просто найти центр по всем с весами 2^n по частотности (отсеять ww из 6,7)\n",
    "# TODO: 1.B определить средний вектор по остальным и сместить на 0.1\n",
    "# TODO: 1.C научиться предсказывать азимут корректировки и длину вектора корректировки\n",
    "# TODO: 1.D по geocoder найти ближайший дом между центром и конечной точкой (подкорректировать)\n",
    "# TODO: 2.Z просто найти центр по всем с весами 2^n по частотности (взять только ww из 6,7)\n",
    "# TODO: 2.A** взять самый частый банкомат в выходные и список остальных (почистить утро-вечер на дом-работа)\n",
    "# TODO: 2.B определить средний вектор по остальным и сместить на 0.1\n",
    "# TODO: 2.C научиться предсказывать азимут корректировки и длину вектора корректировки\n",
    "# TODO: 2.D по geocoder найти ближайший дом между центром и конечной точкой (подкорректировать)\n",
    "\n",
    "df_work_a = df_sample[['customer_id']]\n",
    "\n",
    "df_res = df_sample\n",
    "#df_res['_ID_'] = df_res['customer_id']\n",
    "#df_res['_WORK_LAT_'] = df_res['work_add_lat']\n",
    "#df_res['_WORK_LON_'] = df_res['work_add_lon']\n",
    "#df_res['_HOME_LAT_'] = df_res['home_add_lat']\n",
    "#df_res['_HOME_LON_'] = df_res['home_add_lon']\n",
    "#df_res = df_res[['_ID_', '_WORK_LAT_', '_WORK_LON_', '_HOME_LAT_', '_HOME_LON_']]\n",
    "print (df_res.head(3))"
   ]
  },
  {
   "cell_type": "code",
   "execution_count": null,
   "metadata": {},
   "outputs": [],
   "source": [
    "df_res.to_csv(os.path.join(data_dir, 'result.csv'), index=False, sep=',', encoding='utf-8')\n",
    "print(\"ok\")"
   ]
  }
 ],
 "metadata": {
  "anaconda-cloud": {},
  "kernelspec": {
   "display_name": "Python [default]",
   "language": "python",
   "name": "python3"
  },
  "language_info": {
   "codemirror_mode": {
    "name": "ipython",
    "version": 3
   },
   "file_extension": ".py",
   "mimetype": "text/x-python",
   "name": "python",
   "nbconvert_exporter": "python",
   "pygments_lexer": "ipython3",
   "version": "3.5.4"
  }
 },
 "nbformat": 4,
 "nbformat_minor": 2
}
