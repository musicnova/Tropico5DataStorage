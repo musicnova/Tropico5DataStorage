{
 "cells": [
  {
   "cell_type": "code",
   "execution_count": 28,
   "metadata": {},
   "outputs": [
    {
     "name": "stdout",
     "output_type": "stream",
     "text": [
      "             0          TEL\n",
      "0  79031025366  79031025366\n",
      "1  79031089878  79031089878\n",
      "2  79031219040  79031219040\n"
     ]
    }
   ],
   "source": [
    "import os\n",
    "data_dir = '/home/user/ALBINA/DASHA/DATA1202'\n",
    "\n",
    "import pandas as pd\n",
    "df = pd.read_csv(os.path.join(data_dir, 'mart17000.csv'), sep=',', header=None, encoding='utf-8')\n",
    "df['TEL'] = df[0]\n",
    "print (df.head(3))"
   ]
  },
  {
   "cell_type": "code",
   "execution_count": 29,
   "metadata": {},
   "outputs": [
    {
     "name": "stdout",
     "output_type": "stream",
     "text": [
      "                   0                   1                 K1  \\\n",
      "0  yurbasov_feb_v1.k  yurbasov_feb_v1.v1  yurbasov_feb_v1.k   \n",
      "1                NaN                 NaN                NaN   \n",
      "2        70661402186                 NaN        70661402186   \n",
      "\n",
      "                         V1_USE_OT  \n",
      "0  yurbasov_feb_v1.v1 раз в неделю  \n",
      "1                                -  \n",
      "2                                -  \n"
     ]
    }
   ],
   "source": [
    "import pandas as pd\n",
    "df1 = pd.read_csv(os.path.join(data_dir, 'dat1.csv'), sep=',', header=None, encoding='utf-8')\n",
    "df1['K1'] = df1[0]\n",
    "df1['V1_USE_OT'] = df1.apply(lambda row: str(row[1]).replace(\".0\", \"\") + \" раз в неделю\" if pd.notnull(row[1]) else \"-\", axis = 1)\n",
    "print (df1.head(3))"
   ]
  },
  {
   "cell_type": "code",
   "execution_count": 30,
   "metadata": {},
   "outputs": [
    {
     "name": "stdout",
     "output_type": "stream",
     "text": [
      "                     0                     1                     2  \\\n",
      "0  yurbasov_feb_v3_2.k  yurbasov_feb_v3_2.v2  yurbasov_feb_v3_2.v3   \n",
      "1                  NaN                   NaN                   NaN   \n",
      "2          70661402186                   NaN                   NaN   \n",
      "\n",
      "                    K3            V2_WORK_ST           V3_WORK_REG  \n",
      "0  yurbasov_feb_v3_2.k  yurbasov_feb_v3_2.v2  yurbasov_feb_v3_2.v3  \n",
      "1                  NaN                     -                     -  \n",
      "2          70661402186                     -                     -  \n"
     ]
    }
   ],
   "source": [
    "import pandas as pd\n",
    "df3 = pd.read_csv(os.path.join(data_dir, 'dat3_2.csv'), sep=',', header=None, encoding='utf-8')\n",
    "df3['K3'] = df3[0]\n",
    "df3['V2_WORK_ST'] = df3.apply(lambda row: str(row[1]) if pd.notnull(row[1]) else \"-\", axis = 1)\n",
    "df3['V3_WORK_REG'] = df3.apply(lambda row: str(row[2]) if pd.notnull(row[2]) else \"-\", axis = 1)\n",
    "print (df3.head(3))"
   ]
  },
  {
   "cell_type": "code",
   "execution_count": 31,
   "metadata": {},
   "outputs": [
    {
     "name": "stdout",
     "output_type": "stream",
     "text": [
      "                     0                     1                     2  \\\n",
      "0  yurbasov_feb_v4_5.k  yurbasov_feb_v4_5.v4  yurbasov_feb_v4_5.v5   \n",
      "1                  NaN                   NaN                   NaN   \n",
      "2          70661402186                   NaN                   NaN   \n",
      "\n",
      "                    K5            V4_HOME_ST           V5_HOME_REG  \n",
      "0  yurbasov_feb_v4_5.k  yurbasov_feb_v4_5.v4  yurbasov_feb_v4_5.v5  \n",
      "1                  NaN                     -                     -  \n",
      "2          70661402186                     -                     -  \n"
     ]
    }
   ],
   "source": [
    "import pandas as pd\n",
    "df5 = pd.read_csv(os.path.join(data_dir, 'dat4_5.csv'), sep=',', header=None, encoding='utf-8')\n",
    "df5['K5'] = df5[0]\n",
    "df5['V4_HOME_ST'] = df5.apply(lambda row: str(row[1]) if pd.notnull(row[1]) else \"-\", axis = 1)\n",
    "df5['V5_HOME_REG'] = df5.apply(lambda row: str(row[2]) if pd.notnull(row[2]) else \"-\", axis = 1)\n",
    "print (df5.head(3))"
   ]
  },
  {
   "cell_type": "code",
   "execution_count": 32,
   "metadata": {},
   "outputs": [
    {
     "name": "stdout",
     "output_type": "stream",
     "text": [
      "                   0                   1                 K6 V6_HAS_AUTO\n",
      "0  yurbasov_feb_v6.k  yurbasov_feb_v6.v6  yurbasov_feb_v6.k           -\n",
      "1                NaN                 NaN                NaN           -\n",
      "2        70661402186                 NaN        70661402186           -\n"
     ]
    }
   ],
   "source": [
    "import pandas as pd\n",
    "df6 = pd.read_csv(os.path.join(data_dir, 'dat6.csv'), sep=',', header=None, encoding='utf-8')\n",
    "df6['K6'] = df6[0]\n",
    "df6['V6_HAS_AUTO'] = df6.apply(lambda row: \"да\" if pd.notnull(row[1]) and str(row[1]) == \"1\" else \"нет\" if pd.notnull(row[1]) and str(row[1]) == \"0\" else \"-\", axis = 1)\n",
    "print (df6.head(3))"
   ]
  },
  {
   "cell_type": "code",
   "execution_count": 33,
   "metadata": {},
   "outputs": [
    {
     "name": "stdout",
     "output_type": "stream",
     "text": [
      "                         0                         1                       K7  \\\n",
      "0  yurbasov_feb_v7_extra.k  yurbasov_feb_v7_extra.v7  yurbasov_feb_v7_extra.k   \n",
      "1                      NaN                       NaN                      NaN   \n",
      "2              70661402186                       NaN              70661402186   \n",
      "\n",
      "                 V7_AVGTIME_METRO  \n",
      "0  yurbasov_feb_v7_extra.v7 минут  \n",
      "1                               -  \n",
      "2                               -  \n"
     ]
    }
   ],
   "source": [
    "import pandas as pd\n",
    "df7 = pd.read_csv(os.path.join(data_dir, 'dat7.csv'), sep=',', header=None, encoding='utf-8')\n",
    "df7['K7'] = df7[0]\n",
    "df7['V7_AVGTIME_METRO'] = df7.apply(lambda row: str(row[1]).replace(\".0\", \"\") + \" минут\" if pd.notnull(row[1]) else \"-\", axis = 1)\n",
    "print (df7.head(3))"
   ]
  },
  {
   "cell_type": "code",
   "execution_count": 34,
   "metadata": {},
   "outputs": [
    {
     "name": "stdout",
     "output_type": "stream",
     "text": [
      "           0_x          TEL          0_y    1           K1       V1_USE_OT\n",
      "0  79031025366  79031025366  79031025366  7.0  79031025366  7 раз в неделю\n",
      "1  79031089878  79031089878  79031089878  7.0  79031089878  7 раз в неделю\n",
      "2  79031219040  79031219040  79031219040  7.0  79031219040  7 раз в неделю\n"
     ]
    }
   ],
   "source": [
    "import pandas as pd\n",
    "df_a = pd.merge(df, df1, how='left', left_on='TEL', right_on='K1')\n",
    "print (df_a.head(3))"
   ]
  },
  {
   "cell_type": "code",
   "execution_count": 35,
   "metadata": {},
   "outputs": [
    {
     "name": "stdout",
     "output_type": "stream",
     "text": [
      "           0_x          TEL          0_y  1_x           K1       V1_USE_OT  \\\n",
      "0  79031025366  79031025366  79031025366  7.0  79031025366  7 раз в неделю   \n",
      "1  79031089878  79031089878  79031089878  7.0  79031089878  7 раз в неделю   \n",
      "2  79031219040  79031219040  79031219040  7.0  79031219040  7 раз в неделю   \n",
      "\n",
      "             0            1_y                            2           K3  \\\n",
      "0  79031025366       Пражская  район Чертаново Центральное  79031025366   \n",
      "1  79031089878          Южная  район Чертаново Центральное  79031089878   \n",
      "2  79031219040  Братиславская                район Марьино  79031219040   \n",
      "\n",
      "      V2_WORK_ST                  V3_WORK_REG  \n",
      "0       Пражская  район Чертаново Центральное  \n",
      "1          Южная  район Чертаново Центральное  \n",
      "2  Братиславская                район Марьино  \n"
     ]
    }
   ],
   "source": [
    "import pandas as pd\n",
    "df_b = pd.merge(df_a, df3, how='left', left_on='TEL', right_on='K3')\n",
    "print (df_b.head(3))"
   ]
  },
  {
   "cell_type": "code",
   "execution_count": 36,
   "metadata": {},
   "outputs": [
    {
     "name": "stdout",
     "output_type": "stream",
     "text": [
      "           0_x          TEL          0_y  1_x           K1       V1_USE_OT  \\\n",
      "0  79031025366  79031025366  79031025366  7.0  79031025366  7 раз в неделю   \n",
      "1  79031089878  79031089878  79031089878  7.0  79031089878  7 раз в неделю   \n",
      "2  79031219040  79031219040  79031219040  7.0  79031219040  7 раз в неделю   \n",
      "\n",
      "           0_x            1_y                          2_x           K3  \\\n",
      "0  79031025366       Пражская  район Чертаново Центральное  79031025366   \n",
      "1  79031089878          Южная  район Чертаново Центральное  79031089878   \n",
      "2  79031219040  Братиславская                район Марьино  79031219040   \n",
      "\n",
      "      V2_WORK_ST                  V3_WORK_REG          0_y              1  \\\n",
      "0       Пражская  район Чертаново Центральное  79031025366        Марьино   \n",
      "1          Южная  район Чертаново Центральное  79031089878  Проспект Мира   \n",
      "2  Братиславская                район Марьино  79031219040  Братиславская   \n",
      "\n",
      "               2_y           K5     V4_HOME_ST      V5_HOME_REG  \n",
      "0    район Марьино  79031025366        Марьино    район Марьино  \n",
      "1  Мещанский район  79031089878  Проспект Мира  Мещанский район  \n",
      "2    район Марьино  79031219040  Братиславская    район Марьино  \n"
     ]
    }
   ],
   "source": [
    "import pandas as pd\n",
    "df_c = pd.merge(df_b, df5, how='left', left_on='TEL', right_on='K5')\n",
    "print (df_c.head(3))"
   ]
  },
  {
   "cell_type": "code",
   "execution_count": 37,
   "metadata": {},
   "outputs": [
    {
     "name": "stdout",
     "output_type": "stream",
     "text": [
      "           0_x          TEL          0_y  1_x           K1       V1_USE_OT  \\\n",
      "0  79031025366  79031025366  79031025366  7.0  79031025366  7 раз в неделю   \n",
      "1  79031089878  79031089878  79031089878  7.0  79031089878  7 раз в неделю   \n",
      "2  79031219040  79031219040  79031219040  7.0  79031219040  7 раз в неделю   \n",
      "\n",
      "           0_x            1_y                          2_x           K3  \\\n",
      "0  79031025366       Пражская  район Чертаново Центральное  79031025366   \n",
      "1  79031089878          Южная  район Чертаново Центральное  79031089878   \n",
      "2  79031219040  Братиславская                район Марьино  79031219040   \n",
      "\n",
      "      ...              0_y            1_x              2_y           K5  \\\n",
      "0     ...      79031025366        Марьино    район Марьино  79031025366   \n",
      "1     ...      79031089878  Проспект Мира  Мещанский район  79031089878   \n",
      "2     ...      79031219040  Братиславская    район Марьино  79031219040   \n",
      "\n",
      "      V4_HOME_ST      V5_HOME_REG            0  1_y           K6 V6_HAS_AUTO  \n",
      "0        Марьино    район Марьино  79031025366    1  79031025366          да  \n",
      "1  Проспект Мира  Мещанский район  79031089878    1  79031089878          да  \n",
      "2  Братиславская    район Марьино  79031219040  NaN  79031219040           -  \n",
      "\n",
      "[3 rows x 22 columns]\n"
     ]
    }
   ],
   "source": [
    "import pandas as pd\n",
    "df_d = pd.merge(df_c, df6, how='left', left_on='TEL', right_on='K6')\n",
    "print (df_d.head(3))"
   ]
  },
  {
   "cell_type": "code",
   "execution_count": 38,
   "metadata": {},
   "outputs": [
    {
     "name": "stdout",
     "output_type": "stream",
     "text": [
      "           0_x          TEL          0_y  1_x           K1       V1_USE_OT  \\\n",
      "0  79031025366  79031025366  79031025366  7.0  79031025366  7 раз в неделю   \n",
      "1  79031089878  79031089878  79031089878  7.0  79031089878  7 раз в неделю   \n",
      "2  79031219040  79031219040  79031219040  7.0  79031219040  7 раз в неделю   \n",
      "\n",
      "           0_x            1_y                          2_x           K3  \\\n",
      "0  79031025366       Пражская  район Чертаново Центральное  79031025366   \n",
      "1  79031089878          Южная  район Чертаново Центральное  79031089878   \n",
      "2  79031219040  Братиславская                район Марьино  79031219040   \n",
      "\n",
      "        ...            V4_HOME_ST      V5_HOME_REG          0_x  1_y  \\\n",
      "0       ...               Марьино    район Марьино  79031025366    1   \n",
      "1       ...         Проспект Мира  Мещанский район  79031089878    1   \n",
      "2       ...         Братиславская    район Марьино  79031219040  NaN   \n",
      "\n",
      "            K6 V6_HAS_AUTO          0_y     1           K7 V7_AVGTIME_METRO  \n",
      "0  79031025366          да  79031025366  32.0  79031025366         32 минут  \n",
      "1  79031089878          да  79031089878  13.0  79031089878         13 минут  \n",
      "2  79031219040           -  79031219040  20.0  79031219040         20 минут  \n",
      "\n",
      "[3 rows x 26 columns]\n"
     ]
    }
   ],
   "source": [
    "import pandas as pd\n",
    "df_e = pd.merge(df_d, df7, how='left', left_on='TEL', right_on='K7')\n",
    "print (df_e.head(3))"
   ]
  },
  {
   "cell_type": "code",
   "execution_count": 39,
   "metadata": {},
   "outputs": [
    {
     "name": "stdout",
     "output_type": "stream",
     "text": [
      "           TEL       V1_USE_OT     V2_WORK_ST                  V3_WORK_REG  \\\n",
      "0  79031025366  7 раз в неделю       Пражская  район Чертаново Центральное   \n",
      "1  79031089878  7 раз в неделю          Южная  район Чертаново Центральное   \n",
      "2  79031219040  7 раз в неделю  Братиславская                район Марьино   \n",
      "\n",
      "      V4_HOME_ST      V5_HOME_REG V6_HAS_AUTO V7_AVGTIME_METRO  \n",
      "0        Марьино    район Марьино          да         32 минут  \n",
      "1  Проспект Мира  Мещанский район          да         13 минут  \n",
      "2  Братиславская    район Марьино           -         20 минут  \n"
     ]
    }
   ],
   "source": [
    "import pandas as pd\n",
    "res = df_e[['TEL', 'V1_USE_OT', 'V2_WORK_ST', 'V3_WORK_REG', 'V4_HOME_ST', 'V5_HOME_REG', 'V6_HAS_AUTO',\n",
    "           'V7_AVGTIME_METRO']]\n",
    "print (res.head(3))"
   ]
  },
  {
   "cell_type": "code",
   "execution_count": 40,
   "metadata": {},
   "outputs": [],
   "source": [
    "res.to_csv(os.path.join(data_dir, 'result.csv'), index=False, sep=';', quoting=None, encoding='utf-8')"
   ]
  }
 ],
 "metadata": {
  "anaconda-cloud": {},
  "kernelspec": {
   "display_name": "Python [default]",
   "language": "python",
   "name": "python3"
  },
  "language_info": {
   "codemirror_mode": {
    "name": "ipython",
    "version": 3
   },
   "file_extension": ".py",
   "mimetype": "text/x-python",
   "name": "python",
   "nbconvert_exporter": "python",
   "pygments_lexer": "ipython3",
   "version": "3.5.4"
  }
 },
 "nbformat": 4,
 "nbformat_minor": 2
}
