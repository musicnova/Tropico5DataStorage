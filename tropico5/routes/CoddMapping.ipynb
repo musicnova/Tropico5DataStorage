{
 "cells": [
  {
   "cell_type": "code",
   "execution_count": null,
   "metadata": {},
   "outputs": [],
   "source": [
    "#CREATE TABLE sandbox.yurbasov_coddpark_entity_mapping\n",
    "#AS WITH base1\n",
    "#AS (SELECT v_regno\n",
    "#FROM codd_data.codd codd_kafka\n",
    "#WHERE (from_unixtime(unix_timestamp(v_time_check, 'dd.MM.yyyy HH:mm:ss'),'yyyy-MM-dd') < '2018-02-28'\n",
    "#AND from_unixtime(unix_timestamp(v_time_check, 'dd.MM.yyyy HH:mm:ss'),'yyyy-MM-dd') >= '2017-09-01')\n",
    "#), pre1 AS\n",
    "#(SELECT\n",
    "#  v_regno\n",
    "#FROM base1\n",
    "#GROUP BY v_regno),\n",
    "#par1\n",
    "#AS (SELECT\n",
    "#  phoneno,\n",
    "#  carno\n",
    "#FROM (SELECT\n",
    "#  phoneno,\n",
    "#  carno,\n",
    "#  MAX(from_unixtime(unix_timestamp(parkingstart, 'dd.MM.yyyy HH:mm:ss'), 'yyyy-MM-dd')) AS max_date,\n",
    "#  COUNT(*) AS qty,\n",
    "#  ROW_NUMBER() OVER (PARTITION BY carno ORDER BY COUNT(*) DESC) AS rn\n",
    "#FROM parking_data.parking\n",
    "#WHERE phoneno != 'NULL'\n",
    "#AND from_unixtime(unix_timestamp(parkingstart, 'dd.MM.yyyy HH:mm:ss'), 'yyyy-MM-dd') >= '2017-01-01'\n",
    "#GROUP BY phoneno,\n",
    "#         carno) xx\n",
    "#WHERE rn = 1),\n",
    "#extra1\n",
    "#AS (\n",
    "#SELECT\n",
    "#    pre1.v_regno as v_regno\n",
    "#    , sec.regno_hash AS regno_hash\n",
    "#    , sec.regno AS regno\n",
    "#FROM pre1\n",
    "# JOIN secret.regno AS sec ON pre1.v_regno = sec.regno_hash\n",
    "# GROUP BY\n",
    "# v_regno, regno_hash, regno\n",
    "#), res1 AS\n",
    "#(SELECT\n",
    "#  extra1.v_regno,\n",
    "#  extra1.regno,\n",
    "#  par1.phoneno\n",
    "#FROM extra1\n",
    "#JOIN par1\n",
    "#  ON extra1.v_regno = par1.carno\n",
    "#WHERE par1.carno IS NOT NULL\n",
    "#GROUP BY\n",
    "#extra1.v_regno, extra1.regno,\n",
    "#par1.phoneno) SELECT * FROM res1"
   ]
  },
  {
   "cell_type": "code",
   "execution_count": 1,
   "metadata": {},
   "outputs": [
    {
     "name": "stdout",
     "output_type": "stream",
     "text": [
      "> ok\n",
      "CPU times: user 875 µs, sys: 70 µs, total: 945 µs\n",
      "Wall time: 750 µs\n"
     ]
    }
   ],
   "source": [
    "%%time\n",
    "def ok():\n",
    "    print('> ok')\n",
    "ok()"
   ]
  },
  {
   "cell_type": "code",
   "execution_count": null,
   "metadata": {},
   "outputs": [],
   "source": [
    "%%time\n",
    "\n",
    "\n",
    "\n",
    "from pyspark.sql import SparkSession\n",
    "from pyspark import sql\n",
    "from pyspark.sql.types import StructType, StructField\n",
    "from pyspark.sql.types import StringType, TimestampType, IntegerType, DoubleType\n",
    "from pyspark.sql.functions import unix_timestamp, to_timestamp, col\n",
    "from pyspark.sql.functions import udf\n",
    "import re\n",
    "\n",
    "\n",
    "def ping():\n",
    "    print(\"pong\")\n",
    "\n",
    "if __name__ == \"__main__\":\n",
    "    import sys\n",
    "    ping()\n",
    "\n",
    "    \n",
    "    \n",
    "ok()"
   ]
  },
  {
   "cell_type": "code",
   "execution_count": 4,
   "metadata": {},
   "outputs": [
    {
     "name": "stdout",
     "output_type": "stream",
     "text": [
      "> ok\n",
      "CPU times: user 443 µs, sys: 0 ns, total: 443 µs\n",
      "Wall time: 438 µs\n"
     ]
    }
   ],
   "source": [
    "%%time\n",
    "import shutil\n",
    "import glob\n",
    "shutil.copyfile(\"/home/user/ALBINA/DENIS/CODD_MAPPING/codd_fetch.csv\", \"./codd_mapping_с.csv\")\n",
    "shutil.copyfile(\"/home/user/ALBINA/DENIS/CODD_MAPPING/parking_fetch.csv\", \"./codd_mapping_p.csv\")\n",
    "shutil.copyfile(\"/home/user/ALBINA/DENIS/CODD_MAPPING/secret_fetch.csv\", \"./codd_mapping_s.csv\")\n",
    "ok()"
   ]
  },
  {
   "cell_type": "code",
   "execution_count": null,
   "metadata": {},
   "outputs": [],
   "source": []
  }
 ],
 "metadata": {
  "anaconda-cloud": {},
  "kernelspec": {
   "display_name": "Python [default]",
   "language": "python",
   "name": "python3"
  },
  "language_info": {
   "codemirror_mode": {
    "name": "ipython",
    "version": 3
   },
   "file_extension": ".py",
   "mimetype": "text/x-python",
   "name": "python",
   "nbconvert_exporter": "python",
   "pygments_lexer": "ipython3",
   "version": "3.5.4"
  }
 },
 "nbformat": 4,
 "nbformat_minor": 2
}
