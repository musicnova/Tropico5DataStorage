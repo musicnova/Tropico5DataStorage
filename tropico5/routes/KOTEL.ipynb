{
 "cells": [
  {
   "cell_type": "code",
   "execution_count": 1,
   "metadata": {},
   "outputs": [
    {
     "name": "stdout",
     "output_type": "stream",
     "text": [
      "             0   1  2  3           4    5                                 6  \\\n",
      "1  79017046299   9  0  A  Выхино-131  NaN  988aa51598b3532673b6c37298242fa3   \n",
      "2  79017053263  23  0  A  Выхино-131  NaN  108d9450c205a57fa8e8e6ab36fdc549   \n",
      "3  79017053452   9  0  A  Выхино-131  NaN  3b8d03a9c0bc00323f17c05f3e5bd048   \n",
      "\n",
      "            7           8           K1  \n",
      "1  2018-01-12  2018-02-27  79017046299  \n",
      "2  2018-01-03  2018-02-27  79017053263  \n",
      "3  2018-01-01  2018-02-23  79017053452  \n"
     ]
    }
   ],
   "source": [
    "import os\n",
    "data_dir = '/home/user/ALBINA/RITA/METRO_KOTELNIKI'\n",
    "\n",
    "import pandas as pd\n",
    "df = pd.read_csv(os.path.join(data_dir, 'result_metro.csv'), sep=',', header=None, encoding='cp1251')\n",
    "df = df[df.index > 0]\n",
    "df['K1'] = df.apply(lambda row: str(row[0]), axis=1)\n",
    "print (df.head(3))"
   ]
  },
  {
   "cell_type": "code",
   "execution_count": 2,
   "metadata": {},
   "outputs": [
    {
     "name": "stdout",
     "output_type": "stream",
     "text": [
      "            K2\n",
      "1  79857243832\n",
      "2  79037531937\n",
      "3  79161285545\n"
     ]
    }
   ],
   "source": [
    "df_before = pd.read_csv(os.path.join(data_dir, 'result_auto.csv'), sep=',', header=None, encoding='cp1251')\n",
    "df_before = df_before[df_before.index > 0]\n",
    "df_before['K2'] = df_before.apply(lambda row: str(row[0]), axis=1)\n",
    "df_before = df_before[['K2']]\n",
    "print (df_before.head(3))"
   ]
  },
  {
   "cell_type": "code",
   "execution_count": 3,
   "metadata": {},
   "outputs": [
    {
     "name": "stdout",
     "output_type": "stream",
     "text": [
      "           ТЕЛ КОЛВО ДОМ1РАБ2 ГРУППА          ОТ ДО  \\\n",
      "0  79017046299     9        0      A  Выхино-131  -   \n",
      "1  79017053263    23        0      A  Выхино-131  -   \n",
      "2  79017053452     9        0      A  Выхино-131  -   \n",
      "\n",
      "                                ХЭШ      НАЧАЛО   ОКОНЧАНИЕ  \n",
      "0  988aa51598b3532673b6c37298242fa3  2018-01-12  2018-02-27  \n",
      "1  108d9450c205a57fa8e8e6ab36fdc549  2018-01-03  2018-02-27  \n",
      "2  3b8d03a9c0bc00323f17c05f3e5bd048  2018-01-01  2018-02-23  \n"
     ]
    }
   ],
   "source": [
    "df_result = pd.merge(df, df_before, how=\"left\", left_on=\"K1\", right_on=\"K2\")\n",
    "df_result['ТЕЛ'] = df_result[0]\n",
    "df_result['КОЛВО'] = df_result[1]\n",
    "df_result['ДОМ1РАБ2'] = df_result[2]\n",
    "df_result['ГРУППА'] = df_result[3]\n",
    "df_result['ОТ'] = df_result.apply(lambda row: str(row[4]).split(\"-\", 1)[0] + \"-\" + str(row[4]).split(\"-\", 1)[1], axis=1)\n",
    "df_result['ДО'] = df_result.apply(lambda row: str('-').split(\"-\", 1)[0] + \"-\" + str('-').split(\"-\", 1)[1], axis=1)\n",
    "df_result['ХЭШ'] = df_result[6]\n",
    "df_result['НАЧАЛО'] = df_result[7]\n",
    "df_result['ОКОНЧАНИЕ'] = df_result[8]\n",
    "df_result = df_result[df_result['K2'] != df_result['K1']]\n",
    "df_result = df_result[['ТЕЛ', 'КОЛВО', 'ДОМ1РАБ2', 'ГРУППА', 'ОТ', 'ДО', 'ХЭШ', 'НАЧАЛО', 'ОКОНЧАНИЕ']]\n",
    "print (df_result.head(3))"
   ]
  },
  {
   "cell_type": "code",
   "execution_count": 4,
   "metadata": {},
   "outputs": [
    {
     "name": "stdout",
     "output_type": "stream",
     "text": [
      "ok\n"
     ]
    }
   ],
   "source": [
    "df_result.to_csv(os.path.join(data_dir, 'result.csv'), index=False, sep=';', quoting=None, encoding='cp1251')\n",
    "print(\"ok\")"
   ]
  }
 ],
 "metadata": {
  "anaconda-cloud": {},
  "kernelspec": {
   "display_name": "Python [default]",
   "language": "python",
   "name": "python3"
  },
  "language_info": {
   "codemirror_mode": {
    "name": "ipython",
    "version": 3
   },
   "file_extension": ".py",
   "mimetype": "text/x-python",
   "name": "python",
   "nbconvert_exporter": "python",
   "pygments_lexer": "ipython3",
   "version": "3.5.4"
  }
 },
 "nbformat": 4,
 "nbformat_minor": 2
}
