{
 "cells": [
  {
   "cell_type": "code",
   "execution_count": 13,
   "metadata": {},
   "outputs": [
    {
     "name": "stdout",
     "output_type": "stream",
     "text": [
      "             0   1  2  3                          4                       5  \\\n",
      "1  79000017735   3  1  A              Бутырская-203           Бутырская-203   \n",
      "2  79013010120   2  1  A           Фонвизинская-202        Фонвизинская-202   \n",
      "3  79015433738  12  1  B  Петровско-Разумовская-148  Сретенский бульвар-172   \n",
      "\n",
      "                                  6           7           8           K1  \n",
      "1  a815bd0dce82b4e7f1d32d5f0fead3f0  2018-01-12  2018-02-02  79000017735  \n",
      "2  eb80f8ab956fca516e49638f0fe1b290  2018-01-04  2018-01-15  79013010120  \n",
      "3  e51ea21fa4138c1487ab4223812833f7  2018-01-08  2018-02-02  79015433738  \n"
     ]
    }
   ],
   "source": [
    "import os\n",
    "data_dir = '/home/user/ALBINA/RITA/METRO_MARYINA'\n",
    "\n",
    "import pandas as pd\n",
    "df = pd.read_csv(os.path.join(data_dir, 'metro1.csv'), sep=',', header=None, encoding='cp1251')\n",
    "df = df[df.index > 0]\n",
    "df['K1'] = df.apply(lambda row: str(row[0]), axis=1)\n",
    "print (df.head(3))"
   ]
  },
  {
   "cell_type": "code",
   "execution_count": 14,
   "metadata": {},
   "outputs": [
    {
     "name": "stdout",
     "output_type": "stream",
     "text": [
      "                              K2\n",
      "0  yurbasov_maryino_metro3.phone\n",
      "1                    79017884509\n",
      "2                    79030170558\n"
     ]
    }
   ],
   "source": [
    "df_before = pd.read_csv(os.path.join(data_dir, 'result.csv'), sep=',', header=None, encoding='cp1251')\n",
    "#df_before = df_before[df_before.index > 0]\n",
    "df_before['K2'] = df_before.apply(lambda row: str(row[0]), axis=1)\n",
    "df_before = df_before[['K2']]\n",
    "print (df_before.head(3))"
   ]
  },
  {
   "cell_type": "code",
   "execution_count": 15,
   "metadata": {},
   "outputs": [
    {
     "name": "stdout",
     "output_type": "stream",
     "text": [
      "           ТЕЛ КОЛВО ДОМ1РАБ2 ГРУППА                         ОТ  \\\n",
      "0  79000017735     3        1      A              203-Бутырская   \n",
      "1  79013010120     2        1      A           202-Фонвизинская   \n",
      "2  79015433738    12        1      B  Разумовская-148-Петровско   \n",
      "\n",
      "                       ДО                               ХЭШ      НАЧАЛО  \\\n",
      "0           203-Бутырская  a815bd0dce82b4e7f1d32d5f0fead3f0  2018-01-12   \n",
      "1        202-Фонвизинская  eb80f8ab956fca516e49638f0fe1b290  2018-01-04   \n",
      "2  172-Сретенский бульвар  e51ea21fa4138c1487ab4223812833f7  2018-01-08   \n",
      "\n",
      "    ОКОНЧАНИЕ  \n",
      "0  2018-02-02  \n",
      "1  2018-01-15  \n",
      "2  2018-02-02  \n"
     ]
    }
   ],
   "source": [
    "df_result = pd.merge(df, df_before, how=\"left\", left_on=\"K1\", right_on=\"K2\")\n",
    "df_result['ТЕЛ'] = df_result[0]\n",
    "df_result['КОЛВО'] = df_result[1]\n",
    "df_result['ДОМ1РАБ2'] = df_result[2]\n",
    "df_result['ГРУППА'] = df_result[3]\n",
    "df_result['ОТ'] = df_result.apply(lambda row: str(row[4]).split(\"-\", 1)[1] + \"-\" + str(row[4]).split(\"-\", 1)[0], axis=1)\n",
    "df_result['ДО'] = df_result.apply(lambda row: str(row[5]).split(\"-\", 1)[1] + \"-\" + str(row[5]).split(\"-\", 1)[0], axis=1)\n",
    "df_result['ХЭШ'] = df_result[6]\n",
    "df_result['НАЧАЛО'] = df_result[7]\n",
    "df_result['ОКОНЧАНИЕ'] = df_result[8]\n",
    "df_result = df_result[df_result['K2'] != df_result['K1']]\n",
    "df_result = df_result[['ТЕЛ', 'КОЛВО', 'ДОМ1РАБ2', 'ГРУППА', 'ОТ', 'ДО', 'ХЭШ', 'НАЧАЛО', 'ОКОНЧАНИЕ']]\n",
    "print (df_result.head(3))"
   ]
  },
  {
   "cell_type": "code",
   "execution_count": 16,
   "metadata": {},
   "outputs": [
    {
     "name": "stdout",
     "output_type": "stream",
     "text": [
      "ok\n"
     ]
    }
   ],
   "source": [
    "df_result.to_csv(os.path.join(data_dir, 'result-metro1.csv'), index=False, sep=';', quoting=None, encoding='cp1251')\n",
    "print(\"ok\")"
   ]
  }
 ],
 "metadata": {
  "anaconda-cloud": {},
  "kernelspec": {
   "display_name": "Python [default]",
   "language": "python",
   "name": "python3"
  },
  "language_info": {
   "codemirror_mode": {
    "name": "ipython",
    "version": 3
   },
   "file_extension": ".py",
   "mimetype": "text/x-python",
   "name": "python",
   "nbconvert_exporter": "python",
   "pygments_lexer": "ipython3",
   "version": "3.5.4"
  }
 },
 "nbformat": 4,
 "nbformat_minor": 2
}
