{
 "cells": [
  {
   "cell_type": "code",
   "execution_count": 5,
   "metadata": {},
   "outputs": [
    {
     "name": "stdout",
     "output_type": "stream",
     "text": [
      "             0   1  2  3                     4                 5  \\\n",
      "1  79001210155  13  1  A         22-Войковская     112-Планерная   \n",
      "2  79003583104   7  1  B       113-Сходненская  20-Речной вокзал   \n",
      "3  79006639330  12  1  B  117-Октябрьское поле          23-Сокол   \n",
      "\n",
      "                                  6           7           8           K1  \n",
      "1  54e2aac65043bfd15fb57aab09b71e77  2017-10-02  2018-01-24  79001210155  \n",
      "2  6b266e6be304e204825507577484a1ed  2017-10-10  2018-02-02  79003583104  \n",
      "3  25fb51c636ab45ec807e780601d5c74a  2017-10-01  2018-01-26  79006639330  \n"
     ]
    },
    {
     "name": "stderr",
     "output_type": "stream",
     "text": [
      "/home/user/anaconda3/lib/python3.5/site-packages/IPython/core/interactiveshell.py:2698: DtypeWarning: Columns (0,1,2) have mixed types. Specify dtype option on import or set low_memory=False.\n",
      "  interactivity=interactivity, compiler=compiler, result=result)\n"
     ]
    }
   ],
   "source": [
    "import os\n",
    "data_dir = '/home/user/ALBINA/RITA/METRO_TPK'\n",
    "\n",
    "import pandas as pd\n",
    "df = pd.read_csv(os.path.join(data_dir, 'result7.csv'), sep=',', header=None, encoding='cp1251')\n",
    "df = df[df.index > 0]\n",
    "df['K1'] = df[0]\n",
    "print (df.head(3))"
   ]
  },
  {
   "cell_type": "code",
   "execution_count": 6,
   "metadata": {},
   "outputs": [
    {
     "name": "stdout",
     "output_type": "stream",
     "text": [
      "            K2\n",
      "1  79001210155\n",
      "2  79003583104\n",
      "3  79006639330\n"
     ]
    }
   ],
   "source": [
    "df_before = pd.read_csv(os.path.join(data_dir, 'result5.csv'), sep=',', header=None, encoding='cp1251')\n",
    "df_before = df_before[df_before.index > 0]\n",
    "df_before['K2'] = df_before[0]\n",
    "df_before = df_before[['K2']]\n",
    "print (df_before.head(3))"
   ]
  },
  {
   "cell_type": "code",
   "execution_count": 7,
   "metadata": {},
   "outputs": [
    {
     "name": "stdout",
     "output_type": "stream",
     "text": [
      "           ТЕЛ КОЛВО БУД1ВЫХ2 ГРУППА                     ОТ  \\\n",
      "0  79031947981     4        1      F  49-Славянский бульвар   \n",
      "1  79032574684     3        1      F            45-Строгино   \n",
      "2  79032997751     3        1      F  49-Славянский бульвар   \n",
      "\n",
      "                  ДО                               ХЭШ      НАЧАЛО   ОКОНЧАНИЕ  \n",
      "0  204-Деловой центр  d766a292d563bd8ff35ec35334aadb10  2018-01-12  2018-02-02  \n",
      "1  204-Деловой центр  3d90dc123f03f9a716b5ce64e9da343d  2018-01-16  2018-01-19  \n",
      "2  204-Деловой центр  4df4144967e88a087f8f41a7d6ad8e19  2018-01-12  2018-01-17  \n"
     ]
    }
   ],
   "source": [
    "df_result = pd.merge(df[df[3] == 'F'], df_before, how=\"left\", left_on=\"K1\", right_on=\"K2\")\n",
    "df_result['ТЕЛ'] = df_result[0]\n",
    "df_result['КОЛВО'] = df_result[1]\n",
    "df_result['БУД1ВЫХ2'] = df_result[2]\n",
    "df_result['ГРУППА'] = df_result[3]\n",
    "df_result['ОТ'] = df_result[4]\n",
    "df_result['ДО'] = df_result[5]\n",
    "df_result['ХЭШ'] = df_result[6]\n",
    "df_result['НАЧАЛО'] = df_result[7]\n",
    "df_result['ОКОНЧАНИЕ'] = df_result[8]\n",
    "df_result = df_result[df_result['K2'] != df_result['K1']]\n",
    "df_result = df_result[['ТЕЛ', 'КОЛВО', 'БУД1ВЫХ2', 'ГРУППА', 'ОТ', 'ДО', 'ХЭШ', 'НАЧАЛО', 'ОКОНЧАНИЕ']]\n",
    "print (df_result.head(3))"
   ]
  },
  {
   "cell_type": "code",
   "execution_count": 8,
   "metadata": {},
   "outputs": [
    {
     "name": "stdout",
     "output_type": "stream",
     "text": [
      "ok\n"
     ]
    }
   ],
   "source": [
    "df_result.to_csv(os.path.join(data_dir, 'delta2.csv'), index=False, sep=';', quoting=None, encoding='cp1251')\n",
    "print(\"ok\")"
   ]
  }
 ],
 "metadata": {
  "anaconda-cloud": {},
  "kernelspec": {
   "display_name": "Python [default]",
   "language": "python",
   "name": "python3"
  },
  "language_info": {
   "codemirror_mode": {
    "name": "ipython",
    "version": 3
   },
   "file_extension": ".py",
   "mimetype": "text/x-python",
   "name": "python",
   "nbconvert_exporter": "python",
   "pygments_lexer": "ipython3",
   "version": "3.5.4"
  }
 },
 "nbformat": 4,
 "nbformat_minor": 2
}
