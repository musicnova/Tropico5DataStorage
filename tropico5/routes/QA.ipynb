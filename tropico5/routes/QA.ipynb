{
 "cells": [
  {
   "cell_type": "code",
   "execution_count": 149,
   "metadata": {
    "collapsed": true
   },
   "outputs": [],
   "source": [
    "import os\n",
    "data_dir = '/home/user/ALBINA/PPR'\n"
   ]
  },
  {
   "cell_type": "code",
   "execution_count": 150,
   "metadata": {},
   "outputs": [
    {
     "name": "stdout",
     "output_type": "stream",
     "text": [
      "                    0            1                            2  \\\n",
      "0  Модель данных Hive          NaN                          NaN   \n",
      "1           Код схемы  Код таблицы  Описание наполнения таблицы   \n",
      "2                 NaN          NaN                          NaN   \n",
      "\n",
      "                 3            4                5      6  \n",
      "0  Старые значения          NaN  Флаги изменений    NaN  \n",
      "1        Код схемы  Код таблицы            Схема  Табл.  \n",
      "2              NaN          NaN              NaN    NaN  \n"
     ]
    }
   ],
   "source": [
    "import pandas as pd\n",
    "df_tables = pd.read_csv(os.path.join(data_dir, '3.csv'), sep=';', header=None)\n",
    "print (df_tables.head(3))"
   ]
  },
  {
   "cell_type": "code",
   "execution_count": 151,
   "metadata": {},
   "outputs": [
    {
     "name": "stdout",
     "output_type": "stream",
     "text": [
      "     0                   1            2              3  \\\n",
      "0  NaN  Модель данных Hive          NaN            NaN   \n",
      "1  NaN           Код схемы  Код таблицы  Код аттрибута   \n",
      "2    N                 NaN          NaN            NaN   \n",
      "\n",
      "                               4    5  \n",
      "0                            NaN  NaN  \n",
      "1  Описание наполнения аттрибута  NaN  \n",
      "2                            NaN  NaN  \n"
     ]
    }
   ],
   "source": [
    "import pandas as pd\n",
    "df_fields = pd.read_csv(os.path.join(data_dir, '4.csv'), sep=';', header=None)\n",
    "print (df_fields.head(3))"
   ]
  },
  {
   "cell_type": "code",
   "execution_count": 152,
   "metadata": {},
   "outputs": [
    {
     "name": "stdout",
     "output_type": "stream",
     "text": [
      "      0                                     1             2   \\\n",
      "0  Номер                                запрос        поле 1   \n",
      "1      4  select * from secret.phones limit 3;           NaN   \n",
      "2      4                                   NaN  phones.phone   \n",
      "\n",
      "                  3       4       5       6       7       8       9  ...   \\\n",
      "0             поле 2  поле 3  поле 4  поле 5  поле 6  поле 7  поле 8 ...    \n",
      "1                NaN     NaN     NaN     NaN     NaN     NaN     NaN ...    \n",
      "2  phones.phone_hash     NaN     NaN     NaN     NaN     NaN     NaN ...    \n",
      "\n",
      "    24   25   26   27   28   29   30   31   32   33  \n",
      "0  NaN  NaN  NaN  NaN  NaN  NaN  NaN  NaN  NaN  NaN  \n",
      "1  NaN  NaN  NaN  NaN  NaN  NaN  NaN  NaN  NaN  NaN  \n",
      "2  NaN  NaN  NaN  NaN  NaN  NaN  NaN  NaN  NaN  NaN  \n",
      "\n",
      "[3 rows x 34 columns]\n"
     ]
    }
   ],
   "source": [
    "import pandas as pd\n",
    "df_examples = pd.read_csv(os.path.join(data_dir, '5.csv'), sep=';', header=None)\n",
    "print (df_examples.head(3))"
   ]
  },
  {
   "cell_type": "code",
   "execution_count": 153,
   "metadata": {},
   "outputs": [
    {
     "name": "stdout",
     "output_type": "stream",
     "text": [
      "    Z4 I4      S4      T4                    F4  \\\n",
      "5    5  5  secret   regno                 regno   \n",
      "13  13  6    dict  d_date        date_dayofweek   \n",
      "14  14  6    dict  d_date  date_dayofweek_short   \n",
      "\n",
      "                                                   Q4  \n",
      "5   string - регистрационный номер автомобиля (???...  \n",
      "13  string - день недели (??? полное название на р...  \n",
      "14  string - день недели (??? сокращение до 2х бук...  \n"
     ]
    }
   ],
   "source": [
    "df4 = df_fields\n",
    "df4['Z4'] = df4.index\n",
    "df4['I4'] = df4.apply(lambda row: str(row[0]), axis = 1)\n",
    "df4['S4'] = df4.apply(lambda row: str(row[1]), axis = 1)\n",
    "df4['T4'] = df4.apply(lambda row: str(row[2]), axis = 1)\n",
    "df4['F4'] = df4.apply(lambda row: str(row[3]), axis = 1)\n",
    "df4['Q4'] = df4.apply(lambda row: str(row[4]), axis = 1)\n",
    "df4 = df4[['Z4', 'I4', 'S4', 'T4', 'F4', 'Q4']][df4.index > 2]\n",
    "df4 = df4[df4['Q4'].str.contains(\"\\?\\?\\?\")]\n",
    "print (df4.head(3))"
   ]
  },
  {
   "cell_type": "code",
   "execution_count": 154,
   "metadata": {},
   "outputs": [
    {
     "name": "stdout",
     "output_type": "stream",
     "text": [
      "   I5                                            Q5\n",
      "6   5           select * from secret.regno limit 3;\n",
      "11  6            select * from dict.d_date limit 3;\n",
      "16  7  select * from dict.d_coords_regions limit 3;\n"
     ]
    }
   ],
   "source": [
    "df5 = df_examples\n",
    "df5['I5'] = df5.apply(lambda row: str(row[0]), axis = 1)\n",
    "df5['Q5'] = df5.apply(lambda row: str(row[1]), axis = 1)\n",
    "\n",
    "df5 = df5[['I5', 'Q5']][df5.index > 2]\n",
    "df5 = df5[df5['Q5'].str.contains(\"select\")]\n",
    "print (df5.head(3))"
   ]
  },
  {
   "cell_type": "code",
   "execution_count": 155,
   "metadata": {},
   "outputs": [
    {
     "name": "stdout",
     "output_type": "stream",
     "text": [
      "   I3      S3      T3                                                 D3\n",
      "3   3  secret  phones  Справочник соответствий номеров мобильных теле...\n",
      "4   4  secret   regno          Справочник соответствий ГРЗ и их хэш-сумм\n",
      "5   5    dict  d_date                         Справочник дат (календарь)\n"
     ]
    }
   ],
   "source": [
    "df3 = df_tables\n",
    "df3['I3'] = df3.index\n",
    "df3['S3'] = df3.apply(lambda row: str(row[0]), axis = 1)\n",
    "df3['T3'] = df3.apply(lambda row: str(row[1]), axis = 1)\n",
    "df3['D3'] = df3.apply(lambda row: str(row[2]), axis = 1)\n",
    "\n",
    "df3 = df3[['I3', 'S3', 'T3', 'D3']][df3.index > 2]\n",
    "print (df3.head(3))"
   ]
  },
  {
   "cell_type": "code",
   "execution_count": 156,
   "metadata": {},
   "outputs": [
    {
     "name": "stdout",
     "output_type": "stream",
     "text": [
      "  I5                                   Q5    Z4 I4      S4      T4  \\\n",
      "0  5  select * from secret.regno limit 3;   5.0  5  secret   regno   \n",
      "1  6   select * from dict.d_date limit 3;  13.0  6    dict  d_date   \n",
      "2  6   select * from dict.d_date limit 3;  14.0  6    dict  d_date   \n",
      "\n",
      "                     F4                                                 Q4  \\\n",
      "0                 regno  string - регистрационный номер автомобиля (???...   \n",
      "1        date_dayofweek  string - день недели (??? полное название на р...   \n",
      "2  date_dayofweek_short  string - день недели (??? сокращение до 2х бук...   \n",
      "\n",
      "    I3      S3      T3                                         D3  \n",
      "0  4.0  secret   regno  Справочник соответствий ГРЗ и их хэш-сумм  \n",
      "1  5.0    dict  d_date                 Справочник дат (календарь)  \n",
      "2  5.0    dict  d_date                 Справочник дат (календарь)  \n"
     ]
    }
   ],
   "source": [
    "df = pd.merge(df4, df3, how='left', left_on='S4', right_on='S3')\n",
    "df = df[df['T4'] == df['T3']]\n",
    "df = pd.merge(df5, df, how='left', left_on='I5', right_on='I4')\n",
    "print (df.head(3))"
   ]
  },
  {
   "cell_type": "code",
   "execution_count": 157,
   "metadata": {},
   "outputs": [
    {
     "name": "stdout",
     "output_type": "stream",
     "text": [
      "                                    I5  \\\n",
      "G                                        \n",
      "??? Что значит поле agency_id       62   \n",
      "??? Что значит поле bearing         53   \n",
      "??? Что значит поле bpa_full_count  20   \n",
      "\n",
      "                                                                                   Q5  \\\n",
      "G                                                                                       \n",
      "??? Что значит поле agency_id       select * from mosgortr_stg.routes_codes_csv li...   \n",
      "??? Что значит поле bearing            select * from codd_stg.rnis_komm_temp limit 3;   \n",
      "??? Что значит поле bpa_full_count  select * from metro_stg.exit_entrance_codes_cs...   \n",
      "\n",
      "                                       Z4  I4            S4  \\\n",
      "G                                                             \n",
      "??? Что значит поле agency_id       367.0  62  mosgortr_stg   \n",
      "??? Что значит поле bearing         299.0  53      codd_stg   \n",
      "??? Что значит поле bpa_full_count  140.0  20     metro_stg   \n",
      "\n",
      "                                                         T4              F4  \\\n",
      "G                                                                             \n",
      "??? Что значит поле agency_id              routes_codes_csv       agency_id   \n",
      "??? Что значит поле bearing                  rnis_komm_temp         bearing   \n",
      "??? Что значит поле bpa_full_count  exit_entrance_codes_csv  bpa_full_count   \n",
      "\n",
      "                                                Q4    I3            S3  \\\n",
      "G                                                                        \n",
      "??? Что значит поле agency_id       string - (???)  61.0  mosgortr_stg   \n",
      "??? Что значит поле bearing         string - (???)  52.0      codd_stg   \n",
      "??? Что значит поле bpa_full_count  string - (???)  19.0     metro_stg   \n",
      "\n",
      "                                                         T3  \\\n",
      "G                                                             \n",
      "??? Что значит поле agency_id              routes_codes_csv   \n",
      "??? Что значит поле bearing                  rnis_komm_temp   \n",
      "??? Что значит поле bpa_full_count  exit_entrance_codes_csv   \n",
      "\n",
      "                                                                                   D3  \\\n",
      "G                                                                                       \n",
      "??? Что значит поле agency_id                           Справочник маршрутов (полный)   \n",
      "??? Что значит поле bearing         Факты по телематике ЦОДД Коммерческого транспо...   \n",
      "??? Что значит поле bpa_full_count    Справочник входов и выходов из вестибюлей метро   \n",
      "\n",
      "                                                                     Q  \n",
      "G                                                                       \n",
      "??? Что значит поле agency_id            ??? Что значит поле agency_id  \n",
      "??? Что значит поле bearing                ??? Что значит поле bearing  \n",
      "??? Что значит поле bpa_full_count  ??? Что значит поле bpa_full_count  \n"
     ]
    }
   ],
   "source": [
    "df['Q'] = df.apply(lambda row: \"??? Что значит поле \" + str(row['F4']) if str(row['Q4']).endswith(\"(???)\") else str(row['Q4']), axis = 1)\n",
    "df['G'] = df['Q']\n",
    "df = df.groupby(['G']).first()\n",
    "print (df.head(3))"
   ]
  },
  {
   "cell_type": "code",
   "execution_count": 158,
   "metadata": {},
   "outputs": [
    {
     "name": "stdout",
     "output_type": "stream",
     "text": [
      "                                                   R\n",
      "0  Q1. Нужно пояснение про аттрибут agency_id таб...\n",
      "1  Q2. Нужно пояснение про аттрибут bearing табли...\n",
      "2  Q3. Нужно пояснение про аттрибут bpa_full_coun...\n"
     ]
    }
   ],
   "source": [
    "df = df.reset_index(drop=True)\n",
    "df['N'] = df.index\n",
    "df['R'] = df.apply(lambda row: \"Q\" + str(row['N'] + 1)\n",
    "                   + \". Нужно пояснение про аттрибут \" + str(row['F4'])\n",
    "                   + \" таблицы \" + str(row['S4']) + \".\" + str(row['T4']) + \" : \"\n",
    "                   + str(row['Q'])\n",
    "                   + \" [запрос  \" + row['Q5'] + \"  ] (комментарий F\" + str(row['Z4'] + 1) + \")\", axis = 1)\n",
    "df = df[['R']]\n",
    "print (df.head(3))"
   ]
  },
  {
   "cell_type": "code",
   "execution_count": 159,
   "metadata": {
    "collapsed": true
   },
   "outputs": [],
   "source": [
    "df.to_csv(os.path.join(data_dir, '0.csv'), header=None, index=False, quoting=None)"
   ]
  },
  {
   "cell_type": "code",
   "execution_count": null,
   "metadata": {
    "collapsed": true
   },
   "outputs": [],
   "source": []
  }
 ],
 "metadata": {
  "anaconda-cloud": {},
  "kernelspec": {
   "display_name": "Python [default]",
   "language": "python",
   "name": "python3"
  },
  "language_info": {
   "codemirror_mode": {
    "name": "ipython",
    "version": 3
   },
   "file_extension": ".py",
   "mimetype": "text/x-python",
   "name": "python",
   "nbconvert_exporter": "python",
   "pygments_lexer": "ipython3",
   "version": "3.5.4"
  }
 },
 "nbformat": 4,
 "nbformat_minor": 2
}
