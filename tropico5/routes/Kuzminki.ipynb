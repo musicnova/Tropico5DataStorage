{
 "cells": [
  {
   "cell_type": "code",
   "execution_count": 2,
   "metadata": {},
   "outputs": [
    {
     "name": "stdout",
     "output_type": "stream",
     "text": [
      "             0          1                                 2           K1\n",
      "1  79032232149  А256НЕ199  f9c297265d8b648d68f68d1f4052f0e5  79032232149\n",
      "2  79299855541   Р086ТС77  407571dd136803d6dffe0b726c3b7767  79299855541\n",
      "3  79150259667   В326ОМ77  1c1eb9e784c0717e4804e6518c08272b  79150259667\n"
     ]
    }
   ],
   "source": [
    "import os\n",
    "data_dir = '/home/user/ALBINA/RITA/AUTO_KOTELNIKI'\n",
    "\n",
    "import pandas as pd\n",
    "df = pd.read_csv(os.path.join(data_dir, 'result_auto_kuzminki.csv'), sep=',', header=None, encoding='cp1251')\n",
    "df = df[df.index > 0]\n",
    "df['K1'] = df.apply(lambda row: str(row[0]), axis=1)\n",
    "print (df.head(3))"
   ]
  },
  {
   "cell_type": "code",
   "execution_count": 3,
   "metadata": {},
   "outputs": [
    {
     "name": "stdout",
     "output_type": "stream",
     "text": [
      "            K2\n",
      "1  79263646050\n",
      "2  79605675977\n",
      "3  79261226971\n"
     ]
    }
   ],
   "source": [
    "df_before = pd.read_csv(os.path.join(data_dir, 'result_auto_kotelniki.csv'), sep=',', header=None, encoding='cp1251')\n",
    "df_before = df_before[df_before.index > 0]\n",
    "df_before['K2'] = df_before.apply(lambda row: str(row[0]), axis=1)\n",
    "df_before = df_before[['K2']]\n",
    "print (df_before.head(3))"
   ]
  },
  {
   "cell_type": "code",
   "execution_count": 4,
   "metadata": {},
   "outputs": [
    {
     "name": "stdout",
     "output_type": "stream",
     "text": [
      "           ТЕЛ      НОМЕР                               ХЭШ\n",
      "0  79032232149  А256НЕ199  f9c297265d8b648d68f68d1f4052f0e5\n",
      "2  79150259667   В326ОМ77  1c1eb9e784c0717e4804e6518c08272b\n",
      "3  79104310433  А909ЕХ199  007879a20d36a159f132d2521a03cf13\n"
     ]
    }
   ],
   "source": [
    "df_result = pd.merge(df, df_before, how=\"left\", left_on=\"K1\", right_on=\"K2\")\n",
    "df_result['ТЕЛ'] = df_result[0]\n",
    "df_result['НОМЕР'] = df_result[1]\n",
    "df_result['ХЭШ'] = df_result[2]\n",
    "df_result = df_result[df_result['K2'] != df_result['K1']]\n",
    "df_result = df_result[['ТЕЛ', 'НОМЕР', 'ХЭШ']]\n",
    "print (df_result.head(3))"
   ]
  },
  {
   "cell_type": "code",
   "execution_count": 5,
   "metadata": {},
   "outputs": [
    {
     "name": "stdout",
     "output_type": "stream",
     "text": [
      "ok\n"
     ]
    }
   ],
   "source": [
    "df_result.to_csv(os.path.join(data_dir, 'result_segment3.csv'), index=False, sep=';', quoting=None, encoding='cp1251')\n",
    "print(\"ok\")"
   ]
  }
 ],
 "metadata": {
  "anaconda-cloud": {},
  "kernelspec": {
   "display_name": "Python [default]",
   "language": "python",
   "name": "python3"
  },
  "language_info": {
   "codemirror_mode": {
    "name": "ipython",
    "version": 3
   },
   "file_extension": ".py",
   "mimetype": "text/x-python",
   "name": "python",
   "nbconvert_exporter": "python",
   "pygments_lexer": "ipython3",
   "version": "3.5.4"
  }
 },
 "nbformat": 4,
 "nbformat_minor": 2
}
