{
 "cells": [
  {
   "cell_type": "code",
   "execution_count": 1,
   "metadata": {},
   "outputs": [],
   "source": [
    "#!pip install selenium"
   ]
  },
  {
   "cell_type": "code",
   "execution_count": 2,
   "metadata": {},
   "outputs": [
    {
     "name": "stdout",
     "output_type": "stream",
     "text": [
      "OK\n",
      "Wall time: 0 ns\n"
     ]
    }
   ],
   "source": [
    "%%time\n",
    "Z=\"OK\"\n",
    "print(Z)"
   ]
  },
  {
   "cell_type": "code",
   "execution_count": 3,
   "metadata": {},
   "outputs": [
    {
     "name": "stdout",
     "output_type": "stream",
     "text": [
      "OK\n",
      "Wall time: 499 µs\n"
     ]
    }
   ],
   "source": [
    "%%time\n",
    "# use phantomjs https://stackoverflow.com/a/15699761\n",
    "# https://habr.com/post/198458/\n",
    "# https://blog.michaelyin.info/2015/05/18/how-to-disable-ghostdriver-log-when-using-selenium/\n",
    "#from selenium import webdriver\n",
    "#driver = webdriver.PhantomJS(service_log_path='C:/nodejs/tropico5_civ5_Building.log',\n",
    "#                             service_args=[\"--webdriver-loglevel=ERROR\"])\n",
    "#driver.set_window_size(1024, 768) # optional\n",
    "#driver.get('https://google.com/')\n",
    "\n",
    "print(Z)"
   ]
  },
  {
   "cell_type": "code",
   "execution_count": 4,
   "metadata": {},
   "outputs": [
    {
     "name": "stdout",
     "output_type": "stream",
     "text": [
      "OK\n",
      "Wall time: 0 ns\n"
     ]
    }
   ],
   "source": [
    "%%time\n",
    "# parse http://civilization.wikia.com/wiki/List_of_buildings_in_Civ5\n",
    "urllist=[\"https://www.civfanatics.com/civ5/info/buildings/\"]\n",
    "print(Z)"
   ]
  },
  {
   "cell_type": "code",
   "execution_count": 12,
   "metadata": {},
   "outputs": [
    {
     "ename": "TypeError",
     "evalue": "expected str, bytes or os.PathLike object, not OutStream",
     "output_type": "error",
     "traceback": [
      "\u001b[1;31m---------------------------------------------------------------------------\u001b[0m",
      "\u001b[1;31mTypeError\u001b[0m                                 Traceback (most recent call last)",
      "\u001b[1;32m<timed exec>\u001b[0m in \u001b[0;36m<module>\u001b[1;34m()\u001b[0m\n",
      "\u001b[1;32mC:\\ProgramData\\Anaconda3\\lib\\codecs.py\u001b[0m in \u001b[0;36mopen\u001b[1;34m(filename, mode, encoding, errors, buffering)\u001b[0m\n\u001b[0;32m    893\u001b[0m         \u001b[1;31m# Force opening of the file in binary mode\u001b[0m\u001b[1;33m\u001b[0m\u001b[1;33m\u001b[0m\u001b[0m\n\u001b[0;32m    894\u001b[0m         \u001b[0mmode\u001b[0m \u001b[1;33m=\u001b[0m \u001b[0mmode\u001b[0m \u001b[1;33m+\u001b[0m \u001b[1;34m'b'\u001b[0m\u001b[1;33m\u001b[0m\u001b[0m\n\u001b[1;32m--> 895\u001b[1;33m     \u001b[0mfile\u001b[0m \u001b[1;33m=\u001b[0m \u001b[0mbuiltins\u001b[0m\u001b[1;33m.\u001b[0m\u001b[0mopen\u001b[0m\u001b[1;33m(\u001b[0m\u001b[0mfilename\u001b[0m\u001b[1;33m,\u001b[0m \u001b[0mmode\u001b[0m\u001b[1;33m,\u001b[0m \u001b[0mbuffering\u001b[0m\u001b[1;33m)\u001b[0m\u001b[1;33m\u001b[0m\u001b[0m\n\u001b[0m\u001b[0;32m    896\u001b[0m     \u001b[1;32mif\u001b[0m \u001b[0mencoding\u001b[0m \u001b[1;32mis\u001b[0m \u001b[1;32mNone\u001b[0m\u001b[1;33m:\u001b[0m\u001b[1;33m\u001b[0m\u001b[0m\n\u001b[0;32m    897\u001b[0m         \u001b[1;32mreturn\u001b[0m \u001b[0mfile\u001b[0m\u001b[1;33m\u001b[0m\u001b[0m\n",
      "\u001b[1;31mTypeError\u001b[0m: expected str, bytes or os.PathLike object, not OutStream"
     ]
    }
   ],
   "source": [
    "%%time\n",
    "RELIGIOUS=1\n",
    "ANCIENT_ERA=2\n",
    "CLASSICAL_ERA=3\n",
    "MEDIEVAL_ERA=4\n",
    "RENAISANSE_ERA=5\n",
    "INDUSTRIAL_ERA=6\n",
    "MODERN_ERA=7\n",
    "ATOMIC_ERA=8\n",
    "INFORMATION_ERA=9\n",
    "\n",
    "import bitstring\n",
    "import codecs as cd\n",
    "import requests as rq\n",
    "headers = {\n",
    "    'User-Agent': 'Mozilla/5.0 (Macintosh; Intel Mac OS X 10.9; rv:45.0) Gecko/20100101 Firefox/45.0'\n",
    "  }\n",
    "\n",
    "# USING: https://docs.python.org/3/library/urllib.request.html#module-urllib.request\n",
    "with rq.get(urllist[0], headers=headers) as b:\n",
    "    with cd.open(filepath, \"w\", \"utf-8\") as wf:\n",
    "        buff = bitstring.BitStream()\n",
    "        for chunk in b.iter_content(1024):\n",
    "            buff.append(chunk)\n",
    "        res = buff.bytes.decode('utf-8')\n",
    "        res_commands = str(len(res))\n",
    "        wf.write(res)  \n",
    "\n",
    "print(Z)"
   ]
  },
  {
   "cell_type": "code",
   "execution_count": 7,
   "metadata": {},
   "outputs": [],
   "source": [
    "txt=\"\"\"\n",
    "\tPalace \t\t+3 Science\n",
    "+3 Production\n",
    "+1 Culture\n",
    "+3 Gold\n",
    "+2.5 Strength \tIndicates this City is the capital Capital of the empire. trade Connecting other Cities to the capital Capital by Road will produce additional gold Gold. \t0 \t0 \t0 \t\t\n",
    "\tMonument \t\t+2 Culture \tThe Monument increases the Culture of a city speeding the growth of the city’s territory and the civilization’s acquisition of Social Policies. \t1 \t40 \t280 \t\t\n",
    "\tGranary \t\t+2 Food \tEach source of Wheat Bananas and Deer worked by this City produce +1 food Food. \t1 \t60 \t340 \tPottery \t\n",
    "\tStone Works \t\t+1 Production \tEach source of Marble and Stone worked by this City produce +1 production Production. City must have at least one of these resources improved with a Quarry. City must not be in Plains. \t1 \t75 \t320 \tCalendar \t\n",
    "\tLibrary \t\t\t+1 research Science for every 2 citizen Citizens in this City. \t1 \t75 \t400 \tWriting \t\n",
    "\tPaper Maker \tChina \t+2 Gold \t+1 research Science for every 2 citizen Citizens in this City. +2gold Gold. \t0 \t75 \t400 \tWriting \t\n",
    "\tCircus \t\t+2 Happy \tCity must have an improved source of Horses or Ivory nearby. \t0 \t75 \t400 \tTrapping \t\n",
    "\tWater Mill \t\t+2 Food\n",
    "+1 Production \tCity must be built next to a River. \t2 \t75 \t400 \tThe Wheel \tRiver\n",
    "\tFloating Gardens \tThe Aztecs \t+15% Food\n",
    "+2 Food\n",
    "+1 Production \t+15% food Food. Each worked Lake tile provides +2 food Food. City must be built next to a River or Lake. \t1 \t75 \t400 \tThe Wheel \tFresh Water\n",
    "\tWalls \t\t+4 Strength \tWalls increase a city’s Defense Strength making the city more difficult to capture. Walls are quite useful for cities located along a civilization’s frontier. \t0 \t75 \t400 \tMasonry \t\n",
    "\tWalls of Babylon \tBabylon \t+7.5 Strength \tThe Walls of Babylon increase the damage output of all the city’s ranged attacks and increase the city’s defense. \t0 \t65 \t360 \tMasonry \t\n",
    "\tBarracks \t\t\t+15 XP for all Units. \t1 \t75 \t400 \tBronze Working \t\n",
    "\tKrepost \tRussia \t\t+15 XP for all Units. culture Culture and gold costs of acquiring new tiles reduced by 25% in this city. \t1 \t75 \t400 \tBronze Working \t\n",
    "\tLighthouse \t\t\t+1 food Food from Ocean Tiles. Each source of Fish worked by this City produces +1 food Food. City must be built on the coast. \t1 \t75 \t400 \tOptics \tWater\n",
    "\tTemple \t\t+3 Culture \t\t2 \t100 \t500 \tPhilosophy \tMonument\n",
    "\tBurial Tomb \tEgypt \t+2 Happy\n",
    "+2 Culture \tRequires no gold Gold maintenance. Should this city be captured the amount of gold Gold plundered by the enemy is doubled. \t0 \t100 \t500 \tPhilosophy \t\n",
    "\tMud Pyramid Mosque \tSonghai \t+4 Culture \tRequires no gold Gold maintenance. \t0 \t100 \t500 \tPhilosophy \tMonument\n",
    "\tStable \t\t\t+15% production Production when building Mounted Units. Each source of Horses Sheep and Cattle worked by this City produce +1 production Production. City must have at least one of these resources improved with a Pasture. \t1 \t100 \t500 \tHorseback Riding \t\n",
    "\tCourthouse \t\t\tEliminates extra unhappy Unhappiness from an occupied Occupied City. \t4 \t100 \t600 \tMathematics \t\n",
    "\tColosseum \t\t+2 Happy \tThe Colosseum increases a civilization’s happy Happiness. It cannot provide more Happiness than there are citizen Citizens in a city. \t1 \t100 \t500 \tConstruction \t\n",
    "\tMonastery \t\t+2 Culture \t+2 culture Culture per turn from Incense and +2 from Wine nearby. City must have an improved source of at least one of these resources nearby. \t0 \t120 \t580 \tTheology \t\n",
    "\tGarden \t\t\t+25% greatperson Great People generation in this City. City must be built next to a River or Lake. \t1 \t120 \t580 \tTheology \tFresh Water\n",
    "\tMarket \t\t+25% Gold\n",
    "+2 Gold \tThe Market significantly increases a city’s output of gold. \t0 \t120 \t580 \tCurrency \t\n",
    "\tBazaar \tArabia \t+25% Gold\n",
    "+2 Gold \tProvides 1 extra copy of each improved luxury resource near this City. Each source of Oil and each Oasis provide +2 gold Gold. \t0 \t120 \t580 \tCurrency \t\n",
    "\tMint \t\t\tEach source of Gold and Silver worked by this City produces +2 gold Gold. City must have at least one of these resources mined nearby. \t0 \t120 \t580 \tCurrency \t\n",
    "\tAqueduct \t\t\t40% of food Food is carried over after a new citizen Citizen is born. \t1 \t100 \t400 \tEngineering \t\n",
    "\tForge \t\t\t+15% production Production when building Land Units. Each source of Iron worked by this City produces +1 production Production. City must have a mined source of Iron nearby. \t1 \t120 \t580 \tMetal Casting \t\n",
    "\tWorkshop \t\t+10% Production\n",
    "+2 Production \tThe Workshop speeds a city’s production. \t2 \t120 \t580 \tMetal Casting \t\n",
    "\tLonghouse \tThe Iroquois \t+2 Production \t+1 production Production from each worked Forest tile. \t2 \t100 \t500 \tMetal Casting \t\n",
    "\tHarbor \t\t\tForms a connected Trade Route with the capital Capital over water (if they’re not already connected connected by land). +1 production Production from Sea Resources worked by this City. City must be built on the coast. \t3 \t120 \t580 \tCompass \tWater\n",
    "\tUniversity \t\t+33% Science \t+2 research Science from Jungle tiles worked by this City. City must have a Library. \t2 \t160 \t660 \tEducation \tLibrary\n",
    "\tWat \tSiam \t+33% Science\n",
    "+3 Culture \t\t2 \t160 \t660 \tEducation \tLibrary\n",
    "\tCastle \t\t+4 Strength \tCity must have Walls. \t0 \t160 \t720 \tChivalry \tWalls\n",
    "\tMughal Fort \tIndia \t+2 Culture\n",
    "+6 Strength \tProvides gold after Flight researched. City must have Walls. \t0 \t150 \t680 \tChivalry \tWalls\n",
    "\tArmory \t\t\t+15 XP for all Units. City must have a Barracks or Krepost. \t1 \t160 \t720 \tMachinery \tBarracks\n",
    "\tObservatory \t\t+50% Science \tCity must be built next to a Mountain. \t0 \t200 \t780 \tAstronomy \t\n",
    "\tOpera House \t\t+4 Culture \t\t2 \t200 \t740 \tAcoustics \tTemple\n",
    "\tBank \t\t+25% Gold \tCity must have a Market. \t0 \t200 \t780 \tBanking \tMarket\n",
    "\tSatrap’s Court \tPersia \t+2 Happy\n",
    "+25% Gold\n",
    "+2 Gold \tCity must have a Market. \t0 \t200 \t780 \tBanking \tMarket\n",
    "\tTheatre \t\t+3 Happy \tIt cannot provide more happy Happiness than there are citizen Citizens in a city. City must have a Colosseum. \t2 \t200 \t740 \tPrinting Press \tColosseum\n",
    "\tSeaport \t\t\t+1 production Production and gold Gold from Sea Resources worked by this City. +15% production Production when building Naval Units. City must be built on the coast. \t2 \t250 \t1000 \tNavigation \tHarbor Water\n",
    "\tWindmill \t\t+2 Production \t+10% production Production when constructing Buildings. City must not be built on Hills. \t2 \t250 \t1000 \tEconomics \tFlatland\n",
    "\tMuseum \t\t+5 Culture \t\t3 \t300 \t920 \tArchaeology \tOpera House\n",
    "\tPublic School \t\t+3 Science \t+1 research Science for every 2 citizen Citizens in this City. City must have a University. \t3 \t300 \t920 \tScientific Theory \tUniversity\n",
    "\tMilitary Academy \t\t\t+15 XP for all Units. City must have an Armory. \t1 \t300 \t920 \tMilitary Science \tArmory\n",
    "\tArsenal \t\t+6 Strength \tCity must have a Castle or Mughal Fort. \t0 \t300 \t1150 \tRifling \tCastle\n",
    "\tHospital \t\t+5 Food \tThe Hospital is an Industrial-era building. It’s useful when you want to create a large city, fast. \t2 \t360 \t1050 \tBiology \tAqueduct\n",
    "\tFactory \t\t+10% Production\n",
    "+4 Production \tRequires 1 Coal. \t3 \t360 \t1050 \tSteam Power \tWorkshop\n",
    "\tStock Exchange \t\t+33% Gold \tCity must have a Bank. \t0 \t500 \t1550 \tElectricity \tBank\n",
    "\tMilitary Base \t\t+12 Strength \tCity must have an Arsenal. \t0 \t500 \t1690 \tTelegraph \tArsenal\n",
    "\tBroadcast Tower \t\t+33% Culture\n",
    "+3 Culture \t+33% culture Culture in this City. City must have a Museum. \t3 \t500 \t1350 \tRadio \tMuseum\n",
    "\tHydro Plant \t\t\t+1 production Production in every tile next to a River. Requires 1 Aluminum. City must be built next to a River. \t3 \t500 \t1350 \tPlastics \tRiver\n",
    "\tResearch Lab \t\t+50% Science\n",
    "+4 Science \tCity must have a Public School. \t3 \t500 \t1350 \tPlastics \tPublic School\n",
    "\tMedical Lab \t\t\t25% of food Food is carried over after a new citizen Citizen is born (effect stacks with Aqueduct). \t3 \t500 \t1350 \tPenicillin \tHospital\n",
    "\tStadium \t\t+4 Happy \tIt cannot provide more happy Happiness than there are citizen Citizens in a city. City must have a Theatre. \t2 \t500 \t1350 \tMass Media \tTheatre\n",
    "\tSolar Plant \t\t+15% Production\n",
    "+5 Production \tCity must be built on or next to Desert and must not contain a Nuclear Plant. \t3 \t360 \t1050 \tEcology \tFactory\n",
    "\tNuclear Plant \t\t+15% Production\n",
    "+5 Production \tRequires 1 Uranium. City must not contain a Solar Plant. \t3 \t360 \t1050 \tNuclear Fission \tFactory\n",
    "\tSpaceship Factory \t\t\t+50% production Production when building Spaceship Parts. Requires 1 Aluminum. City must have a Factory. \t3 \t360 \t1050 \tRobotics \tFactory\n",
    "\"\"\""
   ]
  },
  {
   "cell_type": "code",
   "execution_count": 10,
   "metadata": {},
   "outputs": [
    {
     "data": {
      "text/plain": [
       "['',\n",
       " '\\tPalace \\t\\t+3 Science',\n",
       " '+3 Production',\n",
       " '+1 Culture',\n",
       " '+3 Gold',\n",
       " '+2.5 Strength \\tIndicates this City is the capital Capital of the empire. trade Connecting other Cities to the capital Capital by Road will produce additional gold Gold. \\t0 \\t0 \\t0 \\t\\t',\n",
       " '\\tMonument \\t\\t+2 Culture \\tThe Monument increases the Culture of a city speeding the growth of the city’s territory and the civilization’s acquisition of Social Policies. \\t1 \\t40 \\t280 \\t\\t',\n",
       " '\\tGranary \\t\\t+2 Food \\tEach source of Wheat Bananas and Deer worked by this City produce +1 food Food. \\t1 \\t60 \\t340 \\tPottery \\t',\n",
       " '\\tStone Works \\t\\t+1 Production \\tEach source of Marble and Stone worked by this City produce +1 production Production. City must have at least one of these resources improved with a Quarry. City must not be in Plains. \\t1 \\t75 \\t320 \\tCalendar \\t',\n",
       " '\\tLibrary \\t\\t\\t+1 research Science for every 2 citizen Citizens in this City. \\t1 \\t75 \\t400 \\tWriting \\t',\n",
       " '\\tPaper Maker \\tChina \\t+2 Gold \\t+1 research Science for every 2 citizen Citizens in this City. +2gold Gold. \\t0 \\t75 \\t400 \\tWriting \\t',\n",
       " '\\tCircus \\t\\t+2 Happy \\tCity must have an improved source of Horses or Ivory nearby. \\t0 \\t75 \\t400 \\tTrapping \\t',\n",
       " '\\tWater Mill \\t\\t+2 Food',\n",
       " '+1 Production \\tCity must be built next to a River. \\t2 \\t75 \\t400 \\tThe Wheel \\tRiver',\n",
       " '\\tFloating Gardens \\tThe Aztecs \\t+15% Food',\n",
       " '+2 Food',\n",
       " '+1 Production \\t+15% food Food. Each worked Lake tile provides +2 food Food. City must be built next to a River or Lake. \\t1 \\t75 \\t400 \\tThe Wheel \\tFresh Water',\n",
       " '\\tWalls \\t\\t+4 Strength \\tWalls increase a city’s Defense Strength making the city more difficult to capture. Walls are quite useful for cities located along a civilization’s frontier. \\t0 \\t75 \\t400 \\tMasonry \\t',\n",
       " '\\tWalls of Babylon \\tBabylon \\t+7.5 Strength \\tThe Walls of Babylon increase the damage output of all the city’s ranged attacks and increase the city’s defense. \\t0 \\t65 \\t360 \\tMasonry \\t',\n",
       " '\\tBarracks \\t\\t\\t+15 XP for all Units. \\t1 \\t75 \\t400 \\tBronze Working \\t',\n",
       " '\\tKrepost \\tRussia \\t\\t+15 XP for all Units. culture Culture and gold costs of acquiring new tiles reduced by 25% in this city. \\t1 \\t75 \\t400 \\tBronze Working \\t',\n",
       " '\\tLighthouse \\t\\t\\t+1 food Food from Ocean Tiles. Each source of Fish worked by this City produces +1 food Food. City must be built on the coast. \\t1 \\t75 \\t400 \\tOptics \\tWater',\n",
       " '\\tTemple \\t\\t+3 Culture \\t\\t2 \\t100 \\t500 \\tPhilosophy \\tMonument',\n",
       " '\\tBurial Tomb \\tEgypt \\t+2 Happy',\n",
       " '+2 Culture \\tRequires no gold Gold maintenance. Should this city be captured the amount of gold Gold plundered by the enemy is doubled. \\t0 \\t100 \\t500 \\tPhilosophy \\t',\n",
       " '\\tMud Pyramid Mosque \\tSonghai \\t+4 Culture \\tRequires no gold Gold maintenance. \\t0 \\t100 \\t500 \\tPhilosophy \\tMonument',\n",
       " '\\tStable \\t\\t\\t+15% production Production when building Mounted Units. Each source of Horses Sheep and Cattle worked by this City produce +1 production Production. City must have at least one of these resources improved with a Pasture. \\t1 \\t100 \\t500 \\tHorseback Riding \\t',\n",
       " '\\tCourthouse \\t\\t\\tEliminates extra unhappy Unhappiness from an occupied Occupied City. \\t4 \\t100 \\t600 \\tMathematics \\t',\n",
       " '\\tColosseum \\t\\t+2 Happy \\tThe Colosseum increases a civilization’s happy Happiness. It cannot provide more Happiness than there are citizen Citizens in a city. \\t1 \\t100 \\t500 \\tConstruction \\t',\n",
       " '\\tMonastery \\t\\t+2 Culture \\t+2 culture Culture per turn from Incense and +2 from Wine nearby. City must have an improved source of at least one of these resources nearby. \\t0 \\t120 \\t580 \\tTheology \\t',\n",
       " '\\tGarden \\t\\t\\t+25% greatperson Great People generation in this City. City must be built next to a River or Lake. \\t1 \\t120 \\t580 \\tTheology \\tFresh Water',\n",
       " '\\tMarket \\t\\t+25% Gold',\n",
       " '+2 Gold \\tThe Market significantly increases a city’s output of gold. \\t0 \\t120 \\t580 \\tCurrency \\t',\n",
       " '\\tBazaar \\tArabia \\t+25% Gold',\n",
       " '+2 Gold \\tProvides 1 extra copy of each improved luxury resource near this City. Each source of Oil and each Oasis provide +2 gold Gold. \\t0 \\t120 \\t580 \\tCurrency \\t',\n",
       " '\\tMint \\t\\t\\tEach source of Gold and Silver worked by this City produces +2 gold Gold. City must have at least one of these resources mined nearby. \\t0 \\t120 \\t580 \\tCurrency \\t',\n",
       " '\\tAqueduct \\t\\t\\t40% of food Food is carried over after a new citizen Citizen is born. \\t1 \\t100 \\t400 \\tEngineering \\t',\n",
       " '\\tForge \\t\\t\\t+15% production Production when building Land Units. Each source of Iron worked by this City produces +1 production Production. City must have a mined source of Iron nearby. \\t1 \\t120 \\t580 \\tMetal Casting \\t',\n",
       " '\\tWorkshop \\t\\t+10% Production',\n",
       " '+2 Production \\tThe Workshop speeds a city’s production. \\t2 \\t120 \\t580 \\tMetal Casting \\t',\n",
       " '\\tLonghouse \\tThe Iroquois \\t+2 Production \\t+1 production Production from each worked Forest tile. \\t2 \\t100 \\t500 \\tMetal Casting \\t',\n",
       " '\\tHarbor \\t\\t\\tForms a connected Trade Route with the capital Capital over water (if they’re not already connected connected by land). +1 production Production from Sea Resources worked by this City. City must be built on the coast. \\t3 \\t120 \\t580 \\tCompass \\tWater',\n",
       " '\\tUniversity \\t\\t+33% Science \\t+2 research Science from Jungle tiles worked by this City. City must have a Library. \\t2 \\t160 \\t660 \\tEducation \\tLibrary',\n",
       " '\\tWat \\tSiam \\t+33% Science',\n",
       " '+3 Culture \\t\\t2 \\t160 \\t660 \\tEducation \\tLibrary',\n",
       " '\\tCastle \\t\\t+4 Strength \\tCity must have Walls. \\t0 \\t160 \\t720 \\tChivalry \\tWalls',\n",
       " '\\tMughal Fort \\tIndia \\t+2 Culture',\n",
       " '+6 Strength \\tProvides gold after Flight researched. City must have Walls. \\t0 \\t150 \\t680 \\tChivalry \\tWalls',\n",
       " '\\tArmory \\t\\t\\t+15 XP for all Units. City must have a Barracks or Krepost. \\t1 \\t160 \\t720 \\tMachinery \\tBarracks',\n",
       " '\\tObservatory \\t\\t+50% Science \\tCity must be built next to a Mountain. \\t0 \\t200 \\t780 \\tAstronomy \\t',\n",
       " '\\tOpera House \\t\\t+4 Culture \\t\\t2 \\t200 \\t740 \\tAcoustics \\tTemple',\n",
       " '\\tBank \\t\\t+25% Gold \\tCity must have a Market. \\t0 \\t200 \\t780 \\tBanking \\tMarket',\n",
       " '\\tSatrap’s Court \\tPersia \\t+2 Happy',\n",
       " '+25% Gold',\n",
       " '+2 Gold \\tCity must have a Market. \\t0 \\t200 \\t780 \\tBanking \\tMarket',\n",
       " '\\tTheatre \\t\\t+3 Happy \\tIt cannot provide more happy Happiness than there are citizen Citizens in a city. City must have a Colosseum. \\t2 \\t200 \\t740 \\tPrinting Press \\tColosseum',\n",
       " '\\tSeaport \\t\\t\\t+1 production Production and gold Gold from Sea Resources worked by this City. +15% production Production when building Naval Units. City must be built on the coast. \\t2 \\t250 \\t1000 \\tNavigation \\tHarbor Water',\n",
       " '\\tWindmill \\t\\t+2 Production \\t+10% production Production when constructing Buildings. City must not be built on Hills. \\t2 \\t250 \\t1000 \\tEconomics \\tFlatland',\n",
       " '\\tMuseum \\t\\t+5 Culture \\t\\t3 \\t300 \\t920 \\tArchaeology \\tOpera House',\n",
       " '\\tPublic School \\t\\t+3 Science \\t+1 research Science for every 2 citizen Citizens in this City. City must have a University. \\t3 \\t300 \\t920 \\tScientific Theory \\tUniversity',\n",
       " '\\tMilitary Academy \\t\\t\\t+15 XP for all Units. City must have an Armory. \\t1 \\t300 \\t920 \\tMilitary Science \\tArmory',\n",
       " '\\tArsenal \\t\\t+6 Strength \\tCity must have a Castle or Mughal Fort. \\t0 \\t300 \\t1150 \\tRifling \\tCastle',\n",
       " '\\tHospital \\t\\t+5 Food \\tThe Hospital is an Industrial-era building. It’s useful when you want to create a large city, fast. \\t2 \\t360 \\t1050 \\tBiology \\tAqueduct',\n",
       " '\\tFactory \\t\\t+10% Production',\n",
       " '+4 Production \\tRequires 1 Coal. \\t3 \\t360 \\t1050 \\tSteam Power \\tWorkshop',\n",
       " '\\tStock Exchange \\t\\t+33% Gold \\tCity must have a Bank. \\t0 \\t500 \\t1550 \\tElectricity \\tBank',\n",
       " '\\tMilitary Base \\t\\t+12 Strength \\tCity must have an Arsenal. \\t0 \\t500 \\t1690 \\tTelegraph \\tArsenal',\n",
       " '\\tBroadcast Tower \\t\\t+33% Culture',\n",
       " '+3 Culture \\t+33% culture Culture in this City. City must have a Museum. \\t3 \\t500 \\t1350 \\tRadio \\tMuseum',\n",
       " '\\tHydro Plant \\t\\t\\t+1 production Production in every tile next to a River. Requires 1 Aluminum. City must be built next to a River. \\t3 \\t500 \\t1350 \\tPlastics \\tRiver',\n",
       " '\\tResearch Lab \\t\\t+50% Science',\n",
       " '+4 Science \\tCity must have a Public School. \\t3 \\t500 \\t1350 \\tPlastics \\tPublic School',\n",
       " '\\tMedical Lab \\t\\t\\t25% of food Food is carried over after a new citizen Citizen is born (effect stacks with Aqueduct). \\t3 \\t500 \\t1350 \\tPenicillin \\tHospital',\n",
       " '\\tStadium \\t\\t+4 Happy \\tIt cannot provide more happy Happiness than there are citizen Citizens in a city. City must have a Theatre. \\t2 \\t500 \\t1350 \\tMass Media \\tTheatre',\n",
       " '\\tSolar Plant \\t\\t+15% Production',\n",
       " '+5 Production \\tCity must be built on or next to Desert and must not contain a Nuclear Plant. \\t3 \\t360 \\t1050 \\tEcology \\tFactory',\n",
       " '\\tNuclear Plant \\t\\t+15% Production',\n",
       " '+5 Production \\tRequires 1 Uranium. City must not contain a Solar Plant. \\t3 \\t360 \\t1050 \\tNuclear Fission \\tFactory',\n",
       " '\\tSpaceship Factory \\t\\t\\t+50% production Production when building Spaceship Parts. Requires 1 Aluminum. City must have a Factory. \\t3 \\t360 \\t1050 \\tRobotics \\tFactory']"
      ]
     },
     "metadata": {},
     "output_type": "display_data"
    },
    {
     "name": "stdout",
     "output_type": "stream",
     "text": [
      "Wall time: 3.5 ms\n"
     ]
    }
   ],
   "source": [
    "%%time\n",
    "cols=['c0_Image', 'c1_Building', 'c2_Yields', 'c3_Help', 'c4_GoldUp', 'c5_ProdCost', 'c6_GoldCost', 'c7_Tech']\n",
    "data = txt.splitlines()\n",
    "display(data)\n"
   ]
  },
  {
   "cell_type": "code",
   "execution_count": null,
   "metadata": {},
   "outputs": [],
   "source": []
  }
 ],
 "metadata": {
  "kernelspec": {
   "display_name": "Python 3",
   "language": "python",
   "name": "python3"
  },
  "language_info": {
   "codemirror_mode": {
    "name": "ipython",
    "version": 3
   },
   "file_extension": ".py",
   "mimetype": "text/x-python",
   "name": "python",
   "nbconvert_exporter": "python",
   "pygments_lexer": "ipython3",
   "version": "3.6.3"
  }
 },
 "nbformat": 4,
 "nbformat_minor": 2
}
