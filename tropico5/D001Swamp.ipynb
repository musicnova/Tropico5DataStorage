{
 "cells": [
  {
   "cell_type": "code",
   "execution_count": 29,
   "metadata": {},
   "outputs": [
    {
     "data": {
      "text/plain": [
       "'ok'"
      ]
     },
     "execution_count": 29,
     "metadata": {},
     "output_type": "execute_result"
    }
   ],
   "source": [
    "#!/usr/bin/env python3\n",
    "# -*- coding: utf-8 -*-\n",
    "\n",
    "Z='ok'\n",
    "WORKDIR=\"C:\\\\code\\\\tropico5\"\n",
    "RUNDIR=\"C:\\\\Users\\\\Home\\\\CODE_GITLAB\\\\tropico5\"\n",
    "\n",
    "# print(RUNDIR)\n",
    "# TASK: PARSE WEBPAGE http://tropico.wikia.com/wiki/Buildings_(Tropico_5)\n",
    "\n",
    "# USING: https://github.com/niwinz/phantompy (FROM https://toster.ru/q/171125)\n",
    "# READ: http://phantompy.readthedocs.io/en/latest/api-python.html\n",
    "\n",
    "# GOOGLE: site:github.com phantompy -niwinz\n",
    "# EXAMPLE: https://github.com/c3h3/phantompy/blob/master/phantompy/crawler.py\n",
    "# DEPRICATED: https://docs.python.org/2/library/commands.html\n",
    "\n",
    "#!pip install phantompy\n",
    "\n",
    "Z"
   ]
  },
  {
   "cell_type": "code",
   "execution_count": 30,
   "metadata": {},
   "outputs": [],
   "source": [
    "# https://github.com/ariya/phantomjs/issues/10845\n",
    "# What solved the issue for me is to permanently set the high performance adapter to be responsible for running phantomjs.\n",
    "\n",
    "# To do that:\n",
    "\n",
    "#    Go to phantomjs.exe folder. When installing via npm it's at\n",
    "#    C:\\Users\\USERNAME\\AppData\\Roaming\\npm\\node_modules\\phantomjs\\lib\\phantom)\n",
    "#    Right click on the icon of phantomjs.exe and in the submenu of run with graphic processor select change default graphics processor. Image\n",
    "#    In the opened program, select again the phantomjs programm from the list (or browse to it) and set the nvidia graphics processor as the default processor to run it. Image"
   ]
  },
  {
   "cell_type": "code",
   "execution_count": 31,
   "metadata": {},
   "outputs": [
    {
     "data": {
      "text/plain": [
       "'ok'"
      ]
     },
     "execution_count": 31,
     "metadata": {},
     "output_type": "execute_result"
    }
   ],
   "source": [
    "# FILE: settings/phantomjs_coffee.txt\n",
    "\n",
    "# page = require(\"webpage\").create()\n",
    "\n",
    "# console.log 'The default user agent is ' + page.settings.userAgent\n",
    "\n",
    "# page.settings.userAgent = 'Mozilla/5.0 (Macintosh; Intel Mac OS X 10_9_0) AppleWebKit/537.36 (KHTML, like Gecko) Chrome/31.0.1650.63 Safari/537.36'\n",
    "\n",
    "# fs = require 'fs'\n",
    "\n",
    "# args = require('system').args\n",
    "# req_url = args[1]\n",
    "# res_file_path = args[2]\n",
    "\n",
    "# page.open req_url, (status)\n",
    "#        if status == \"success\"\n",
    "#        fs.write res_file_path, page.content, \"w\"\n",
    "#        console.log \"SUCCESS\"\n",
    "#    else\n",
    "#        console.log \"FAIL\"\n",
    "\n",
    "# phantom.exit()\n",
    "Z"
   ]
  },
  {
   "cell_type": "code",
   "execution_count": 32,
   "metadata": {},
   "outputs": [
    {
     "ename": "NameError",
     "evalue": "name 'windll' is not defined",
     "output_type": "error",
     "traceback": [
      "\u001b[1;31m---------------------------------------------------------------------------\u001b[0m",
      "\u001b[1;31mNameError\u001b[0m                                 Traceback (most recent call last)",
      "\u001b[1;32m<ipython-input-32-ba2a3f519810>\u001b[0m in \u001b[0;36m<module>\u001b[1;34m()\u001b[0m\n\u001b[0;32m      2\u001b[0m \u001b[1;31m# https://github.com/pymedusa/Medusa/issues/1843\u001b[0m\u001b[1;33m\u001b[0m\u001b[1;33m\u001b[0m\u001b[0m\n\u001b[0;32m      3\u001b[0m \u001b[1;33m\u001b[0m\u001b[0m\n\u001b[1;32m----> 4\u001b[1;33m \u001b[0mlib\u001b[0m \u001b[1;33m=\u001b[0m \u001b[0mwindll\u001b[0m\u001b[1;33m.\u001b[0m\u001b[0mMediaInfo\u001b[0m \u001b[1;33m=\u001b[0m \u001b[0mwindll\u001b[0m\u001b[1;33m.\u001b[0m\u001b[0mLoadLibrary\u001b[0m\u001b[1;33m(\u001b[0m\u001b[0mstr\u001b[0m\u001b[1;33m(\u001b[0m\u001b[0mos\u001b[0m\u001b[1;33m.\u001b[0m\u001b[0mpath\u001b[0m\u001b[1;33m.\u001b[0m\u001b[0mjoin\u001b[0m\u001b[1;33m(\u001b[0m\u001b[0mlib\u001b[0m\u001b[1;33m,\u001b[0m \u001b[1;34m'MediaInfo.dll'\u001b[0m\u001b[1;33m)\u001b[0m\u001b[1;33m)\u001b[0m\u001b[1;33m)\u001b[0m\u001b[1;33m\u001b[0m\u001b[0m\n\u001b[0m\u001b[0;32m      5\u001b[0m \u001b[0mlogger\u001b[0m\u001b[1;33m.\u001b[0m\u001b[0mdebug\u001b[0m\u001b[1;33m(\u001b[0m\u001b[1;34m'Loading native mediainfo library from %s'\u001b[0m\u001b[1;33m,\u001b[0m \u001b[0mlib\u001b[0m\u001b[1;33m)\u001b[0m\u001b[1;33m\u001b[0m\u001b[0m\n\u001b[0;32m      6\u001b[0m \u001b[0munrar\u001b[0m \u001b[1;33m=\u001b[0m \u001b[0mctypes\u001b[0m\u001b[1;33m.\u001b[0m\u001b[0mWinDLL\u001b[0m\u001b[1;33m(\u001b[0m\u001b[0mstr\u001b[0m\u001b[1;33m(\u001b[0m\u001b[0mos\u001b[0m\u001b[1;33m.\u001b[0m\u001b[0mpath\u001b[0m\u001b[1;33m.\u001b[0m\u001b[0mjoin\u001b[0m\u001b[1;33m(\u001b[0m\u001b[0mos\u001b[0m\u001b[1;33m.\u001b[0m\u001b[0mpath\u001b[0m\u001b[1;33m.\u001b[0m\u001b[0msplit\u001b[0m\u001b[1;33m(\u001b[0m\u001b[0m__file__\u001b[0m\u001b[1;33m)\u001b[0m\u001b[1;33m[\u001b[0m\u001b[1;36m0\u001b[0m\u001b[1;33m]\u001b[0m\u001b[1;33m,\u001b[0m \u001b[1;34m'UnRARDLL'\u001b[0m\u001b[1;33m,\u001b[0m \u001b[0mdll_name\u001b[0m\u001b[1;33m)\u001b[0m\u001b[1;33m)\u001b[0m\u001b[1;33m)\u001b[0m\u001b[1;33m\u001b[0m\u001b[0m\n",
      "\u001b[1;31mNameError\u001b[0m: name 'windll' is not defined"
     ]
    }
   ],
   "source": [
    "# https://yandex.ru/search/?text=phantompy%20LoadLibrary()%20argument%201%20must%20be%20str%2C%20not%20None\n",
    "\n",
    "# Install QT-5 http://www.itmathrepetitor.ru/ustanovka-qt-5/\n",
    "\n",
    "# Download https://www.qt.io/download\n",
    "\n",
    "# Options: Tools -> [+] Qt 5.5 , [+] MinGW 4.9.2 => 16 Gb\n",
    "\n",
    "# Install CYGWIN, Lynx and cmake https://stackoverflow.com/a/16869816\n",
    "\n",
    "# wget https://raw.githubusercontent.com/transcode-open/apt-cyg/master/apt-cyg\n",
    "# chmod +x apt-cyg\n",
    "# mv apt-cyg /usr/local/bin\n",
    "\n",
    "# apt-cyg install cmake\n",
    "\n",
    "# Install MinGw https://stackoverflow.com/a/22378733\n",
    "\n",
    "# OR USE mingw-w64/x86_64-5.3.0-posix-seh-rt_v4-rev0/mingw64/bin/mingw32-make.exe\n",
    "\n",
    "# Additional notes\n",
    "# C/C++ Library Notes\n",
    "\n",
    "# The core part of phantompy is a c/c++ library that uses qt5 for access to WebKit engine (with Qt5WebKit).\n",
    "\n",
    "# Before use of python library/wrapper for libphantompy, you need install system-wide this c/c++ library.\n",
    "\n",
    "# For compile it, you need:\n",
    "\n",
    "#    Gcc >= 4.8 or clang++ >= 3.2 (simply not tested with previous versions)\n",
    "#    Qt5 (Core, Network, WebKit, Widgets)\n",
    "#    CMake >= 2.8.4\n",
    "\n",
    "# Get the Code\n",
    "\n",
    "# Also, you can download the latest version from github and install it manually:\n",
    "\n",
    "# git clone https://github.com/niwibe/phantompy\n",
    "# cd phantompy\n",
    "# python setup.py install\n",
    "\n",
    "\n",
    "# Compile and install instructions:\n",
    "\n",
    "# cd build\n",
    "# CMAKE_LEGACY_CYGWIN_WIN32=0 CMAKE_MAKE_PROGRAM=C:\\Qt\\5.5\\mingw492_32\\bin\\qmake.exe CMAKE_FORCE_C_COMPILER=C:\\Qt\\Tools\\mingw492_32\\bin\\gcc.exe CMAKE_FORCE_CXX_COMPILER=C:\\Qt\\Tools\\mingw492_32\\bin\\g++.exe cmake ..\n",
    "# make\n",
    "# sudo make install\n",
    "\n",
    "# NOTES:\n",
    "\n",
    "#     This library has limited tested environtments. If you can compile in other environments would be helpful if you notified me of it.\n",
    "#     This library does not works properly on OSX, any help is welcome.\n",
    "\n"
   ]
  },
  {
   "cell_type": "code",
   "execution_count": null,
   "metadata": {},
   "outputs": [],
   "source": [
    "import os, subprocess\n",
    "import uuid\n",
    "\n",
    "def crawl(url, run_dir, main_dir, filename=None):\n",
    "    os.makedirs(main_dir, exist_ok=True)\n",
    "    \n",
    "    if filename==None:\n",
    "        filename = uuid.uuid4().hex\n",
    "    \n",
    "    filepath = os.path.join(main_dir, filename)\n",
    "    current_dir = run_dir\n",
    "    \n",
    "    os.chdir(run_dir)\n",
    "    coffee = os.path.join(run_dir, \"settings\", \"phantomjs_coffee.txt\")\n",
    "    # what = 'phantomjs.exe \"%s\" \"%s\" \"%s\"' % (coffee, url, filepath)\n",
    "    # process = subprocess.run(what, shell=True,\n",
    "    #                           stdout=subprocess.PIPE,\n",
    "    #                           stderr=subprocess.PIPE,\n",
    "    #                           stdin=subprocess.PIPE,\n",
    "    #                           timeout=3, universal_newlines=True)\n",
    "    # res_commands = process.stdout\n",
    "    \n",
    "    # EXAMPLE: https://github.com/niwinz/phantompy/blob/master/tests.py\n",
    "    import phantompy as ph\n",
    "    frame = ph.open(url)\n",
    "    elements = p.cssselect(\"#\")\n",
    "    html = elements[0].inner_html()\n",
    "    res_commands = html.strip()\n",
    "    \n",
    "    print(\"res_commands = \", res_commands)\n",
    "\n",
    "    os.chdir(main_dir)\n",
    "    with open(filename, \"r\") as rf:\n",
    "        res_text = rf.read()\n",
    "\n",
    "    os.chdir(current_dir)\n",
    "    \n",
    "    res_dict = {}\n",
    "    res_dict[\"res_commands\"] = res_commands\n",
    "    res_dict[\"res_text\"] = res_text  \n",
    "    res_dict[\"filepath\"] = filepath \n",
    "    res_dict[\"filename\"] = filename\n",
    "    \n",
    "    return res_dict \n",
    "\n",
    "crawl(\"http://tropico.wikia.com/wiki/Buildings_(Tropico_5)\", RUNDIR, os.path.join(WORKDIR, \"data\"), \"buildings.txt\")\n",
    "\n",
    "Z"
   ]
  }
 ],
 "metadata": {
  "kernelspec": {
   "display_name": "Python 3",
   "language": "python",
   "name": "python3"
  },
  "language_info": {
   "codemirror_mode": {
    "name": "ipython",
    "version": 3
   },
   "file_extension": ".py",
   "mimetype": "text/x-python",
   "name": "python",
   "nbconvert_exporter": "python",
   "pygments_lexer": "ipython3",
   "version": "3.6.3"
  }
 },
 "nbformat": 4,
 "nbformat_minor": 2
}
