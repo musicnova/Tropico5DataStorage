{
 "cells": [
  {
   "cell_type": "code",
   "execution_count": 33,
   "metadata": {},
   "outputs": [
    {
     "name": "stdout",
     "output_type": "stream",
     "text": [
      "C:\\Users\\Home\\CODE_GITLAB\\tropico5\n"
     ]
    },
    {
     "data": {
      "text/plain": [
       "'ok'"
      ]
     },
     "execution_count": 33,
     "metadata": {},
     "output_type": "execute_result"
    }
   ],
   "source": [
    "#!/usr/bin/env python3\n",
    "# -*- coding: utf-8 -*-\n",
    "Z='ok'\n",
    "WORKDIR=\"C:\\\\code\\\\tropico5\"\n",
    "RUNDIR=\"C:\\\\Users\\\\Home\\\\CODE_GITLAB\\\\tropico5\"\n",
    "\n",
    "print(RUNDIR)\n",
    "# TASK: PARSE WEBPAGE http://tropico.wikia.com/wiki/Buildings_(Tropico_5)\n",
    "\n",
    "# USING: https://github.com/niwinz/phantompy (FROM https://toster.ru/q/171125)\n",
    "# READ: http://phantompy.readthedocs.io/en/latest/api-python.html\n",
    "\n",
    "# GOOGLE: site:github.com phantompy -niwinz\n",
    "# EXAMPLE: https://github.com/c3h3/phantompy/blob/master/phantompy/crawler.py\n",
    "# DEPRICATED: https://docs.python.org/2/library/commands.html\n",
    "\n",
    "# !pip3 install -y phantompy\n",
    "\n",
    "Z"
   ]
  },
  {
   "cell_type": "code",
   "execution_count": 34,
   "metadata": {},
   "outputs": [
    {
     "name": "stdout",
     "output_type": "stream",
     "text": [
      "res_commands =  phantomjs.exe \"C:\\Users\\Home\\CODE_GITLAB\\tropico5\\settings\\phantomjs_coffee.txt\" \"http://tropico.wikia.com/wiki/Buildings_(Tropico_5)\" \"C:\\code\\tropico5\\data\\buildings.txt\"\n",
      "\n"
     ]
    },
    {
     "ename": "FileNotFoundError",
     "evalue": "[Errno 2] No such file or directory: 'buildings.txt'",
     "output_type": "error",
     "traceback": [
      "\u001b[1;31m---------------------------------------------------------------------------\u001b[0m",
      "\u001b[1;31mFileNotFoundError\u001b[0m                         Traceback (most recent call last)",
      "\u001b[1;32m<ipython-input-34-2e9825947263>\u001b[0m in \u001b[0;36m<module>\u001b[1;34m()\u001b[0m\n\u001b[0;32m     36\u001b[0m     \u001b[1;32mreturn\u001b[0m \u001b[0mres_dict\u001b[0m\u001b[1;33m\u001b[0m\u001b[0m\n\u001b[0;32m     37\u001b[0m \u001b[1;33m\u001b[0m\u001b[0m\n\u001b[1;32m---> 38\u001b[1;33m \u001b[0mcrawl\u001b[0m\u001b[1;33m(\u001b[0m\u001b[1;34m\"http://tropico.wikia.com/wiki/Buildings_(Tropico_5)\"\u001b[0m\u001b[1;33m,\u001b[0m \u001b[0mRUNDIR\u001b[0m\u001b[1;33m,\u001b[0m \u001b[0mos\u001b[0m\u001b[1;33m.\u001b[0m\u001b[0mpath\u001b[0m\u001b[1;33m.\u001b[0m\u001b[0mjoin\u001b[0m\u001b[1;33m(\u001b[0m\u001b[0mWORKDIR\u001b[0m\u001b[1;33m,\u001b[0m \u001b[1;34m\"data\"\u001b[0m\u001b[1;33m)\u001b[0m\u001b[1;33m,\u001b[0m \u001b[1;34m\"buildings.txt\"\u001b[0m\u001b[1;33m)\u001b[0m\u001b[1;33m\u001b[0m\u001b[0m\n\u001b[0m\u001b[0;32m     39\u001b[0m \u001b[1;33m\u001b[0m\u001b[0m\n\u001b[0;32m     40\u001b[0m \u001b[0mZ\u001b[0m\u001b[1;33m\u001b[0m\u001b[0m\n",
      "\u001b[1;32m<ipython-input-34-2e9825947263>\u001b[0m in \u001b[0;36mcrawl\u001b[1;34m(url, run_dir, main_dir, filename)\u001b[0m\n\u001b[0;32m     23\u001b[0m \u001b[1;33m\u001b[0m\u001b[0m\n\u001b[0;32m     24\u001b[0m     \u001b[0mos\u001b[0m\u001b[1;33m.\u001b[0m\u001b[0mchdir\u001b[0m\u001b[1;33m(\u001b[0m\u001b[0mmain_dir\u001b[0m\u001b[1;33m)\u001b[0m\u001b[1;33m\u001b[0m\u001b[0m\n\u001b[1;32m---> 25\u001b[1;33m     \u001b[1;32mwith\u001b[0m \u001b[0mopen\u001b[0m\u001b[1;33m(\u001b[0m\u001b[0mfilename\u001b[0m\u001b[1;33m,\u001b[0m \u001b[1;34m\"r\"\u001b[0m\u001b[1;33m)\u001b[0m \u001b[1;32mas\u001b[0m \u001b[0mrf\u001b[0m\u001b[1;33m:\u001b[0m\u001b[1;33m\u001b[0m\u001b[0m\n\u001b[0m\u001b[0;32m     26\u001b[0m         \u001b[0mres_text\u001b[0m \u001b[1;33m=\u001b[0m \u001b[0mrf\u001b[0m\u001b[1;33m.\u001b[0m\u001b[0mread\u001b[0m\u001b[1;33m(\u001b[0m\u001b[1;33m)\u001b[0m\u001b[1;33m\u001b[0m\u001b[0m\n\u001b[0;32m     27\u001b[0m \u001b[1;33m\u001b[0m\u001b[0m\n",
      "\u001b[1;31mFileNotFoundError\u001b[0m: [Errno 2] No such file or directory: 'buildings.txt'"
     ]
    }
   ],
   "source": [
    "import os, subprocess\n",
    "import uuid\n",
    "\n",
    "def crawl(url, run_dir, main_dir, filename=None):\n",
    "    os.makedirs(main_dir, exist_ok=True)\n",
    "    \n",
    "    if filename==None:\n",
    "        filename = uuid.uuid4().hex\n",
    "    \n",
    "    filepath = os.path.join(main_dir, filename)\n",
    "    current_dir = run_dir\n",
    "    \n",
    "    os.chdir(run_dir)\n",
    "    coffee = os.path.join(run_dir, \"settings\", \"phantomjs_coffee.txt\")\n",
    "    what = 'phantomjs.exe \"%s\" \"%s\" \"%s\"' % (coffee, url, filepath)\n",
    "    process = subprocess.run(what, shell=True,\n",
    "                              stdout=subprocess.PIPE,\n",
    "                              stderr=subprocess.PIPE,\n",
    "                              stdin=subprocess.PIPE,\n",
    "                              timeout=3, universal_newlines=True)\n",
    "    res_commands = process.stdout\n",
    "    print(\"res_commands = \", res_commands)\n",
    "\n",
    "    os.chdir(main_dir)\n",
    "    with open(filename, \"r\") as rf:\n",
    "        res_text = rf.read()\n",
    "\n",
    "    os.chdir(current_dir)\n",
    "    \n",
    "    res_dict = {}\n",
    "    res_dict[\"res_commands\"] = res_commands\n",
    "    res_dict[\"res_text\"] = res_text  \n",
    "    res_dict[\"filepath\"] = filepath \n",
    "    res_dict[\"filename\"] = filename\n",
    "    \n",
    "    return res_dict \n",
    "\n",
    "crawl(\"http://tropico.wikia.com/wiki/Buildings_(Tropico_5)\", RUNDIR, os.path.join(WORKDIR, \"data\"), \"buildings.txt\")\n",
    "\n",
    "Z"
   ]
  }
 ],
 "metadata": {
  "kernelspec": {
   "display_name": "Python 3",
   "language": "python",
   "name": "python3"
  },
  "language_info": {
   "codemirror_mode": {
    "name": "ipython",
    "version": 3
   },
   "file_extension": ".py",
   "mimetype": "text/x-python",
   "name": "python",
   "nbconvert_exporter": "python",
   "pygments_lexer": "ipython3",
   "version": "3.6.3"
  }
 },
 "nbformat": 4,
 "nbformat_minor": 2
}
