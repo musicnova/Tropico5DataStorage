{
 "cells": [
  {
   "cell_type": "code",
   "execution_count": 405,
   "metadata": {},
   "outputs": [
    {
     "data": {
      "text/plain": [
       "'ok'"
      ]
     },
     "execution_count": 405,
     "metadata": {},
     "output_type": "execute_result"
    }
   ],
   "source": [
    "#!/usr/bin/env python3\n",
    "# -*- coding: utf-8 -*-\n",
    "\n",
    "Z='ok'\n",
    "import time\n",
    "NOW=int(time.strftime(\"%Y%m%d\"))\n",
    "WORKDIR=\"C:\\\\code\\\\tropico5\\\\loadpart=\"+str(NOW)\n",
    "RUNDIR=\"C:\\\\Users\\\\Home\\\\CODE_GITLAB\\\\tropico5\"\n",
    "\n",
    "# print(RUNDIR)\n",
    "# TASK: PARSE WEBPAGE http://tropico.wikia.com/wiki/Buildings_(Tropico_5)\n",
    "\n",
    "# USING: https://github.com/niwinz/phantompy (FROM https://toster.ru/q/171125)\n",
    "# READ: http://phantompy.readthedocs.io/en/latest/api-python.html\n",
    "\n",
    "# GOOGLE: site:github.com phantompy -niwinz\n",
    "# EXAMPLE: https://github.com/c3h3/phantompy/blob/master/phantompy/crawler.py\n",
    "# DEPRICATED: https://docs.python.org/2/library/commands.html\n",
    "\n",
    "#!pip install phantompy\n",
    "#!pip install htmldom\n",
    "#!pip install bitstring\n",
    "Z"
   ]
  },
  {
   "cell_type": "code",
   "execution_count": 406,
   "metadata": {},
   "outputs": [],
   "source": [
    "# https://github.com/ariya/phantomjs/issues/10845\n",
    "# What solved the issue for me is to permanently set the high performance adapter to be responsible for running phantomjs.\n",
    "\n",
    "# To do that:\n",
    "\n",
    "#    Go to phantomjs.exe folder. When installing via npm it's at\n",
    "#    C:\\Users\\USERNAME\\AppData\\Roaming\\npm\\node_modules\\phantomjs\\lib\\phantom)\n",
    "#    Right click on the icon of phantomjs.exe and in the submenu of run with graphic processor select change default graphics processor. Image\n",
    "#    In the opened program, select again the phantomjs programm from the list (or browse to it) and set the nvidia graphics processor as the default processor to run it. Image"
   ]
  },
  {
   "cell_type": "code",
   "execution_count": 407,
   "metadata": {},
   "outputs": [
    {
     "data": {
      "text/plain": [
       "'ok'"
      ]
     },
     "execution_count": 407,
     "metadata": {},
     "output_type": "execute_result"
    }
   ],
   "source": [
    "# FILE: settings/phantomjs_coffee.txt\n",
    "\n",
    "# page = require(\"webpage\").create()\n",
    "\n",
    "# console.log 'The default user agent is ' + page.settings.userAgent\n",
    "\n",
    "# page.settings.userAgent = 'Mozilla/5.0 (Macintosh; Intel Mac OS X 10_9_0) AppleWebKit/537.36 (KHTML, like Gecko) Chrome/31.0.1650.63 Safari/537.36'\n",
    "\n",
    "# fs = require 'fs'\n",
    "\n",
    "# args = require('system').args\n",
    "# req_url = args[1]\n",
    "# res_file_path = args[2]\n",
    "\n",
    "# page.open req_url, (status)\n",
    "#        if status == \"success\"\n",
    "#        fs.write res_file_path, page.content, \"w\"\n",
    "#        console.log \"SUCCESS\"\n",
    "#    else\n",
    "#        console.log \"FAIL\"\n",
    "\n",
    "# phantom.exit()\n",
    "Z"
   ]
  },
  {
   "cell_type": "code",
   "execution_count": 408,
   "metadata": {},
   "outputs": [
    {
     "data": {
      "text/plain": [
       "'ok'"
      ]
     },
     "execution_count": 408,
     "metadata": {},
     "output_type": "execute_result"
    }
   ],
   "source": [
    "# https://yandex.ru/search/?text=phantompy%20LoadLibrary()%20argument%201%20must%20be%20str%2C%20not%20None\n",
    "\n",
    "# Install QT-5 http://www.itmathrepetitor.ru/ustanovka-qt-5/\n",
    "\n",
    "# Download https://www.qt.io/download\n",
    "\n",
    "# Options: Tools -> [+] Qt 5.5 , [+] MinGW 4.9.2 => 16 Gb\n",
    "\n",
    "# Install CYGWIN, Lynx and cmake https://stackoverflow.com/a/16869816\n",
    "\n",
    "# wget https://raw.githubusercontent.com/transcode-open/apt-cyg/master/apt-cyg\n",
    "# chmod +x apt-cyg\n",
    "# mv apt-cyg /usr/local/bin\n",
    "\n",
    "# apt-cyg install cmake\n",
    "\n",
    "# Install MinGw https://stackoverflow.com/a/22378733\n",
    "\n",
    "# OR USE mingw-w64/x86_64-5.3.0-posix-seh-rt_v4-rev0/mingw64/bin/mingw32-make.exe\n",
    "\n",
    "# Additional notes\n",
    "# C/C++ Library Notes\n",
    "\n",
    "# The core part of phantompy is a c/c++ library that uses qt5 for access to WebKit engine (with Qt5WebKit).\n",
    "\n",
    "# Before use of python library/wrapper for libphantompy, you need install system-wide this c/c++ library.\n",
    "\n",
    "# For compile it, you need:\n",
    "\n",
    "#    Gcc >= 4.8 or clang++ >= 3.2 (simply not tested with previous versions)\n",
    "#    Qt5 (Core, Network, WebKit, Widgets)\n",
    "#    CMake >= 2.8.4\n",
    "\n",
    "# Get the Code\n",
    "\n",
    "# Also, you can download the latest version from github and install it manually:\n",
    "\n",
    "# git clone https://github.com/niwibe/phantompy\n",
    "# cd phantompy\n",
    "# python setup.py install\n",
    "\n",
    "\n",
    "# Compile and install instructions:\n",
    "\n",
    "# cd build\n",
    "# CMAKE_LEGACY_CYGWIN_WIN32=0 CMAKE_MAKE_PROGRAM=C:\\Qt\\5.5\\mingw492_32\\bin\\qmake.exe CMAKE_FORCE_C_COMPILER=C:\\Qt\\Tools\\mingw492_32\\bin\\gcc.exe CMAKE_FORCE_CXX_COMPILER=C:\\Qt\\Tools\\mingw492_32\\bin\\g++.exe cmake ..\n",
    "# make\n",
    "# sudo make install\n",
    "\n",
    "# NOTES:\n",
    "\n",
    "#     This library has limited tested environtments. If you can compile in other environments would be helpful if you notified me of it.\n",
    "#     This library does not works properly on OSX, any help is welcome.\n",
    "\n",
    "progress={}\n",
    "\n",
    "Z"
   ]
  },
  {
   "cell_type": "code",
   "execution_count": 409,
   "metadata": {},
   "outputs": [
    {
     "name": "stdout",
     "output_type": "stream",
     "text": [
      "res_commands =  279012\n"
     ]
    },
    {
     "data": {
      "text/plain": [
       "'ok'"
      ]
     },
     "execution_count": 409,
     "metadata": {},
     "output_type": "execute_result"
    }
   ],
   "source": [
    "import os, subprocess\n",
    "import uuid\n",
    "\n",
    "def crawl(url, run_dir, work_dir, main_dir, raw_subdir, filename=None):\n",
    "    os.makedirs(os.path.join(work_dir, main_dir, raw_subdir), exist_ok=True)\n",
    "\n",
    "    if filename==None:\n",
    "        filename = uuid.uuid4().hex\n",
    "    \n",
    "    filepath = os.path.join(work_dir, main_dir, raw_subdir, filename)\n",
    "    current_dir = run_dir\n",
    "    \n",
    "    os.chdir(run_dir)\n",
    "    coffee = os.path.join(run_dir, \"settings\", \"phantomjs_coffee.txt\")\n",
    "    # what = 'phantomjs.exe \"%s\" \"%s\" \"%s\"' % (coffee, url, filepath)\n",
    "    # process = subprocess.run(what, shell=True,\n",
    "    #                           stdout=subprocess.PIPE,\n",
    "    #                           stderr=subprocess.PIPE,\n",
    "    #                           stdin=subprocess.PIPE,\n",
    "    #                           timeout=3, universal_newlines=True)\n",
    "    # res_commands = process.stdout\n",
    "    \n",
    "    # EXAMPLE: https://github.com/niwinz/phantompy/blob/master/tests.py\n",
    "    # import phantompy as ph\n",
    "    # frame = ph.open(url)\n",
    "    # elements = p.cssselect(\"#\")\n",
    "    # html = elements[0].inner_html()\n",
    "    # res_commands = html.strip()\n",
    "    \n",
    "    # USING: https://docs.python.org/3/library/urllib.request.html#module-urllib.request\n",
    "    import bitstring\n",
    "    import codecs as cd\n",
    "    import requests as rq\n",
    "    headers = {\n",
    "        'User-Agent': 'Mozilla/5.0 (Macintosh; Intel Mac OS X 10.9; rv:45.0) Gecko/20100101 Firefox/45.0'\n",
    "      }\n",
    "    with rq.get(url, headers=headers) as b:\n",
    "        with cd.open(filepath, \"w\", \"utf-8\") as wf:\n",
    "            buff = bitstring.BitStream()\n",
    "            for chunk in b.iter_content(1024):\n",
    "                buff.append(chunk)\n",
    "            res = buff.bytes.decode('utf-8')\n",
    "            res_commands = str(len(res))\n",
    "            wf.write(res)    \n",
    "    \n",
    "    print(\"res_commands = \", res_commands)\n",
    "\n",
    "    os.chdir(work_dir)\n",
    "    os.chdir(main_dir)\n",
    "    os.chdir(raw_subdir)\n",
    "    with open(filename, \"r\") as rf:\n",
    "        res_text = rf.read()\n",
    "    os.chdir(current_dir)\n",
    "    \n",
    "    res_dict = {}\n",
    "    res_dict[\"res_commands\"] = res_commands\n",
    "    res_dict[\"res_text\"] = res_text  \n",
    "    res_dict[\"filepath\"] = filepath \n",
    "    res_dict[\"filename\"] = filename\n",
    "    \n",
    "    return res_dict \n",
    "\n",
    "name_01 = time.strftime(\"%Y%m%d\") + \".txt\"\n",
    "progress[\"01crawl:tropico_wikia_com:buildings\"] = crawl(\"http://tropico.wikia.com/wiki/Buildings_(Tropico_5)\", RUNDIR,\n",
    "         WORKDIR, os.path.join(\"data=swamp\", \"source=tropico_wikia_com\", \"table=buildings\"), \"step=01crawl\", name_01)\n",
    "\n",
    "#print(Z)\n",
    "Z"
   ]
  },
  {
   "cell_type": "code",
   "execution_count": 410,
   "metadata": {},
   "outputs": [
    {
     "data": {
      "text/plain": [
       "'ok'"
      ]
     },
     "execution_count": 410,
     "metadata": {},
     "output_type": "execute_result"
    }
   ],
   "source": [
    "import os, subprocess\n",
    "\n",
    "def parse(html_path, run_dir, work_dir, main_dir, csv_subdir, filename=None):\n",
    "    os.makedirs(os.path.join(work_dir, main_dir, csv_subdir), exist_ok=True)\n",
    "\n",
    "    if filename==None:\n",
    "        filename = uuid.uuid4().hex\n",
    "\n",
    "    filepath = os.path.join(work_dir, main_dir, csv_subdir, filename)\n",
    "    current_dir = run_dir\n",
    "        \n",
    "    # USING: https://habrahabr.ru/post/280238/   https://stackoverflow.com/a/1577495\n",
    "    import lxml\n",
    "\n",
    "    with open(html_path, \"r\") as rf:\n",
    "        text = rf.read()\n",
    "\n",
    "    root = lxml.html.fromstring(text)\n",
    "    tree = lxml.etree.ElementTree(root)\n",
    "    s = set([])\n",
    "    for e in root.iter():\n",
    "        s.add(tree.getpath(e))\n",
    "    a = list(sorted(s))\n",
    "    \n",
    "    # USING: https://docs.python.org/2/library/csv.html\n",
    "    import csv\n",
    "    import codecs as cd\n",
    "    with cd.open(filepath, \"w\", \"utf-8\") as wf:\n",
    "        spamwriter = csv.writer(wf, delimiter=',', quotechar='\"', quoting=csv.QUOTE_MINIMAL)\n",
    "        row = []\n",
    "        for i in range(0, len(a)):\n",
    "            s = \"\"\n",
    "            for v in tree.xpath(a[i] + '/text()'):\n",
    "                s += v\n",
    "            row.append(s)\n",
    "        #print(str(row))\n",
    "        spamwriter.writerow(v)\n",
    "        res_commands = str(len(a))\n",
    "\n",
    "    os.chdir(work_dir)\n",
    "    os.chdir(main_dir)\n",
    "    os.chdir(csv_subdir)\n",
    "    with open(filename, \"r\") as rf:\n",
    "        res_text = rf.read()\n",
    "    os.chdir(current_dir)\n",
    "\n",
    "    res_dict = {}\n",
    "    res_dict[\"res_commands\"] = res_commands\n",
    "    res_dict[\"res_text\"] = res_text  \n",
    "    res_dict[\"filepath\"] = filepath \n",
    "    res_dict[\"filename\"] = filename\n",
    "    \n",
    "    return res_dict\n",
    "\n",
    "name_02 = name_01\n",
    "\n",
    "progress[\"02parse:tropico_wikia_com:buildings\"] = parse(progress[\"01crawl:tropico_wikia_com:buildings\"][\"filepath\"],\n",
    "            RUNDIR, WORKDIR, os.path.join(\"data=swamp\", \"source=tropico_wikia_com\", \"table=buildings\"),\n",
    "            \"step=02parse\", name_02)\n",
    "\n",
    "Z"
   ]
  },
  {
   "cell_type": "code",
   "execution_count": 411,
   "metadata": {},
   "outputs": [
    {
     "data": {
      "text/plain": [
       "'ok'"
      ]
     },
     "execution_count": 411,
     "metadata": {},
     "output_type": "execute_result"
    }
   ],
   "source": [
    "import os, subprocess\n",
    "\n",
    "def descr(html_path, run_dir, work_dir, main_dir, csv_subdir, filename=None):\n",
    "    os.makedirs(os.path.join(work_dir, main_dir, csv_subdir), exist_ok=True)\n",
    "\n",
    "    if filename==None:\n",
    "        filename = uuid.uuid4().hex\n",
    "\n",
    "    filepath = os.path.join(work_dir, main_dir, csv_subdir, filename)\n",
    "    current_dir = run_dir\n",
    "        \n",
    "    # USING: https://habrahabr.ru/post/280238/   https://stackoverflow.com/a/1577495\n",
    "    import lxml\n",
    "\n",
    "    with open(html_path, \"r\") as rf:\n",
    "        text = rf.read()\n",
    "\n",
    "    root = lxml.html.fromstring(text)\n",
    "    tree = lxml.etree.ElementTree(root)\n",
    "    s = set([])\n",
    "    for e in root.iter():\n",
    "        s.add(tree.getpath(e))\n",
    "    a = list(sorted(s))\n",
    "    \n",
    "    # USING: https://docs.python.org/2/library/csv.html \n",
    "    import csv\n",
    "    import codecs as cd\n",
    "    with cd.open(filepath, \"w\", \"cp1251\") as wf:\n",
    "        spamwriter = csv.writer(wf, delimiter='\\t', quotechar='\"', quoting=csv.QUOTE_ALL)\n",
    "        for i in range(0, len(a)):\n",
    "            s = \"\"\n",
    "            for v in tree.xpath(a[i] + '/text()'):\n",
    "                s += v.encode('utf-8').decode('cp1251', \"ignore\")\n",
    "            spamwriter.writerow([\"1\", str(i+1), \"BUILDINGS\", a[i], \"VARCHAR65535\", s])\n",
    "        res_commands = str(len(a))\n",
    "\n",
    "    os.chdir(work_dir)\n",
    "    os.chdir(main_dir)\n",
    "    os.chdir(csv_subdir)\n",
    "    with open(filename, \"r\") as rf:\n",
    "        res_text = rf.read()\n",
    "    os.chdir(current_dir)\n",
    "\n",
    "    res_dict = {}\n",
    "    res_dict[\"res_commands\"] = res_commands\n",
    "    res_dict[\"res_text\"] = res_text  \n",
    "    res_dict[\"filepath\"] = filepath \n",
    "    res_dict[\"filename\"] = filename\n",
    "    \n",
    "    return res_dict\n",
    "\n",
    "name_03 = name_01\n",
    "\n",
    "progress[\"03descr:tropico_wikia_com:buildings\"] = descr(progress[\"01crawl:tropico_wikia_com:buildings\"][\"filepath\"],\n",
    "            RUNDIR, WORKDIR, os.path.join(\"data=swamp\", \"source=tropico_wikia_com\", \"table=buildings\"),\n",
    "            \"step=03descr\", name_03)\n",
    "\n",
    "Z"
   ]
  },
  {
   "cell_type": "code",
   "execution_count": 416,
   "metadata": {},
   "outputs": [
    {
     "data": {
      "text/plain": [
       "'ok'"
      ]
     },
     "execution_count": 416,
     "metadata": {},
     "output_type": "execute_result"
    }
   ],
   "source": [
    "import os, subprocess\n",
    "\n",
    "def create(html_path, run_dir, work_dir, main_dir, sql_subdir, filename=None):\n",
    "    os.makedirs(os.path.join(work_dir, main_dir, csv_subdir), exist_ok=True)\n",
    "\n",
    "    if filename==None:\n",
    "        filename = uuid.uuid4().hex\n",
    "\n",
    "    filepath = os.path.join(work_dir, main_dir, csv_subdir, filename)\n",
    "    current_dir = run_dir\n",
    "\n",
    "    # http://slusar.su/izuchaem-python-n19-rabota-s-bazoy-dannykh-sqlite/\n",
    "    import sqlite3\n",
    "    with sqlite3.connect(filepath) as conn:\n",
    "        with conn.cursor() as c:\n",
    "            c.execute('''CREATE TABLE users (id int auto_increment primary key,name varchar, password varchar)''')\n",
    "            conn.commit()\n",
    "    \n",
    "    res_dict = {}\n",
    "    \n",
    "    return res_dict\n",
    "\n",
    "name_04 = str(NOW) + \".db\"\n",
    "\n",
    "progress[\"04create:tropico_wikia_com:buildings\"] = descr(progress[\"03descr:tropico_wikia_com:buildings\"][\"filepath\"],\n",
    "            RUNDIR, WORKDIR, os.path.join(\"data=swamp\", \"source=tropico_wikia_com\", \"table=buildings\"),\n",
    "            \"step=04create\", name_04)\n",
    "\n",
    "Z"
   ]
  },
  {
   "cell_type": "code",
   "execution_count": null,
   "metadata": {},
   "outputs": [],
   "source": []
  }
 ],
 "metadata": {
  "kernelspec": {
   "display_name": "Python 3",
   "language": "python",
   "name": "python3"
  },
  "language_info": {
   "codemirror_mode": {
    "name": "ipython",
    "version": 3
   },
   "file_extension": ".py",
   "mimetype": "text/x-python",
   "name": "python",
   "nbconvert_exporter": "python",
   "pygments_lexer": "ipython3",
   "version": "3.6.3"
  }
 },
 "nbformat": 4,
 "nbformat_minor": 2
}
